{
 "cells": [
  {
   "cell_type": "markdown",
   "id": "c8ba60f6",
   "metadata": {
    "papermill": {
     "duration": 0.015411,
     "end_time": "2023-09-03T15:24:23.642869",
     "exception": false,
     "start_time": "2023-09-03T15:24:23.627458",
     "status": "completed"
    },
    "tags": []
   },
   "source": [
    "# RSNA Abdominal Trauma Detection \n",
    "### This is my first attempt at a Kaggle Competition hoping to have fun and learn data science, machine learning and gain general experience"
   ]
  },
  {
   "cell_type": "markdown",
   "id": "24876dff",
   "metadata": {
    "papermill": {
     "duration": 0.014227,
     "end_time": "2023-09-03T15:24:23.671779",
     "exception": false,
     "start_time": "2023-09-03T15:24:23.657552",
     "status": "completed"
    },
    "tags": []
   },
   "source": [
    "# CURRENT AGENDA!!!!!!!\n",
    "## Stuck on interpretting logits, figure out if the outputs of the model predictions are probability or binary, try to interpret both"
   ]
  },
  {
   "cell_type": "markdown",
   "id": "19d9423d",
   "metadata": {
    "papermill": {
     "duration": 0.014191,
     "end_time": "2023-09-03T15:24:23.700221",
     "exception": false,
     "start_time": "2023-09-03T15:24:23.686030",
     "status": "completed"
    },
    "tags": []
   },
   "source": [
    "# MAIN OBJECTIVE: \n",
    "## To identify several potential injuries in CT scans of trauma patients. Any of these injuries can be fatal on a short time frame if untreated so there is great value in rapid diagnosis."
   ]
  },
  {
   "cell_type": "markdown",
   "id": "ad5b3c0f",
   "metadata": {
    "papermill": {
     "duration": 0.015014,
     "end_time": "2023-09-03T15:24:23.729451",
     "exception": false,
     "start_time": "2023-09-03T15:24:23.714437",
     "status": "completed"
    },
    "tags": []
   },
   "source": [
    "# 1. Imports"
   ]
  },
  {
   "cell_type": "code",
   "execution_count": 1,
   "id": "395c0a32",
   "metadata": {
    "execution": {
     "iopub.execute_input": "2023-09-03T15:24:23.760374Z",
     "iopub.status.busy": "2023-09-03T15:24:23.759562Z",
     "iopub.status.idle": "2023-09-03T15:24:56.572581Z",
     "shell.execute_reply": "2023-09-03T15:24:56.571430Z"
    },
    "papermill": {
     "duration": 32.831576,
     "end_time": "2023-09-03T15:24:56.575393",
     "exception": false,
     "start_time": "2023-09-03T15:24:23.743817",
     "status": "completed"
    },
    "tags": []
   },
   "outputs": [
    {
     "name": "stdout",
     "output_type": "stream",
     "text": [
      "Requirement already satisfied: tensorflow in /opt/conda/lib/python3.10/site-packages (2.12.0)\r\n",
      "Requirement already satisfied: absl-py>=1.0.0 in /opt/conda/lib/python3.10/site-packages (from tensorflow) (1.4.0)\r\n",
      "Requirement already satisfied: astunparse>=1.6.0 in /opt/conda/lib/python3.10/site-packages (from tensorflow) (1.6.3)\r\n",
      "Requirement already satisfied: flatbuffers>=2.0 in /opt/conda/lib/python3.10/site-packages (from tensorflow) (23.5.26)\r\n",
      "Requirement already satisfied: gast<=0.4.0,>=0.2.1 in /opt/conda/lib/python3.10/site-packages (from tensorflow) (0.4.0)\r\n",
      "Requirement already satisfied: google-pasta>=0.1.1 in /opt/conda/lib/python3.10/site-packages (from tensorflow) (0.2.0)\r\n",
      "Requirement already satisfied: grpcio<2.0,>=1.24.3 in /opt/conda/lib/python3.10/site-packages (from tensorflow) (1.51.1)\r\n",
      "Requirement already satisfied: h5py>=2.9.0 in /opt/conda/lib/python3.10/site-packages (from tensorflow) (3.9.0)\r\n",
      "Requirement already satisfied: jax>=0.3.15 in /opt/conda/lib/python3.10/site-packages (from tensorflow) (0.4.13)\r\n",
      "Requirement already satisfied: keras<2.13,>=2.12.0 in /opt/conda/lib/python3.10/site-packages (from tensorflow) (2.12.0)\r\n",
      "Requirement already satisfied: libclang>=13.0.0 in /opt/conda/lib/python3.10/site-packages (from tensorflow) (16.0.0)\r\n",
      "Requirement already satisfied: numpy<1.24,>=1.22 in /opt/conda/lib/python3.10/site-packages (from tensorflow) (1.23.5)\r\n",
      "Requirement already satisfied: opt-einsum>=2.3.2 in /opt/conda/lib/python3.10/site-packages (from tensorflow) (3.3.0)\r\n",
      "Requirement already satisfied: packaging in /opt/conda/lib/python3.10/site-packages (from tensorflow) (21.3)\r\n",
      "Requirement already satisfied: protobuf!=4.21.0,!=4.21.1,!=4.21.2,!=4.21.3,!=4.21.4,!=4.21.5,<5.0.0dev,>=3.20.3 in /opt/conda/lib/python3.10/site-packages (from tensorflow) (3.20.3)\r\n",
      "Requirement already satisfied: setuptools in /opt/conda/lib/python3.10/site-packages (from tensorflow) (59.8.0)\r\n",
      "Requirement already satisfied: six>=1.12.0 in /opt/conda/lib/python3.10/site-packages (from tensorflow) (1.16.0)\r\n",
      "Requirement already satisfied: tensorboard<2.13,>=2.12 in /opt/conda/lib/python3.10/site-packages (from tensorflow) (2.12.3)\r\n",
      "Requirement already satisfied: tensorflow-estimator<2.13,>=2.12.0 in /opt/conda/lib/python3.10/site-packages (from tensorflow) (2.12.0)\r\n",
      "Requirement already satisfied: termcolor>=1.1.0 in /opt/conda/lib/python3.10/site-packages (from tensorflow) (2.3.0)\r\n",
      "Requirement already satisfied: typing-extensions>=3.6.6 in /opt/conda/lib/python3.10/site-packages (from tensorflow) (4.6.3)\r\n",
      "Requirement already satisfied: wrapt<1.15,>=1.11.0 in /opt/conda/lib/python3.10/site-packages (from tensorflow) (1.14.1)\r\n",
      "Requirement already satisfied: tensorflow-io-gcs-filesystem>=0.23.1 in /opt/conda/lib/python3.10/site-packages (from tensorflow) (0.31.0)\r\n",
      "Requirement already satisfied: wheel<1.0,>=0.23.0 in /opt/conda/lib/python3.10/site-packages (from astunparse>=1.6.0->tensorflow) (0.40.0)\r\n",
      "Requirement already satisfied: ml-dtypes>=0.1.0 in /opt/conda/lib/python3.10/site-packages (from jax>=0.3.15->tensorflow) (0.2.0)\r\n",
      "Requirement already satisfied: scipy>=1.7 in /opt/conda/lib/python3.10/site-packages (from jax>=0.3.15->tensorflow) (1.11.1)\r\n",
      "Requirement already satisfied: google-auth<3,>=1.6.3 in /opt/conda/lib/python3.10/site-packages (from tensorboard<2.13,>=2.12->tensorflow) (2.20.0)\r\n",
      "Requirement already satisfied: google-auth-oauthlib<1.1,>=0.5 in /opt/conda/lib/python3.10/site-packages (from tensorboard<2.13,>=2.12->tensorflow) (1.0.0)\r\n",
      "Requirement already satisfied: markdown>=2.6.8 in /opt/conda/lib/python3.10/site-packages (from tensorboard<2.13,>=2.12->tensorflow) (3.4.3)\r\n",
      "Requirement already satisfied: requests<3,>=2.21.0 in /opt/conda/lib/python3.10/site-packages (from tensorboard<2.13,>=2.12->tensorflow) (2.31.0)\r\n",
      "Requirement already satisfied: tensorboard-data-server<0.8.0,>=0.7.0 in /opt/conda/lib/python3.10/site-packages (from tensorboard<2.13,>=2.12->tensorflow) (0.7.1)\r\n",
      "Requirement already satisfied: werkzeug>=1.0.1 in /opt/conda/lib/python3.10/site-packages (from tensorboard<2.13,>=2.12->tensorflow) (2.3.6)\r\n",
      "Requirement already satisfied: pyparsing!=3.0.5,>=2.0.2 in /opt/conda/lib/python3.10/site-packages (from packaging->tensorflow) (3.0.9)\r\n",
      "Requirement already satisfied: cachetools<6.0,>=2.0.0 in /opt/conda/lib/python3.10/site-packages (from google-auth<3,>=1.6.3->tensorboard<2.13,>=2.12->tensorflow) (4.2.4)\r\n",
      "Requirement already satisfied: pyasn1-modules>=0.2.1 in /opt/conda/lib/python3.10/site-packages (from google-auth<3,>=1.6.3->tensorboard<2.13,>=2.12->tensorflow) (0.2.7)\r\n",
      "Requirement already satisfied: rsa<5,>=3.1.4 in /opt/conda/lib/python3.10/site-packages (from google-auth<3,>=1.6.3->tensorboard<2.13,>=2.12->tensorflow) (4.9)\r\n",
      "Requirement already satisfied: urllib3<2.0 in /opt/conda/lib/python3.10/site-packages (from google-auth<3,>=1.6.3->tensorboard<2.13,>=2.12->tensorflow) (1.26.15)\r\n",
      "Requirement already satisfied: requests-oauthlib>=0.7.0 in /opt/conda/lib/python3.10/site-packages (from google-auth-oauthlib<1.1,>=0.5->tensorboard<2.13,>=2.12->tensorflow) (1.3.1)\r\n",
      "Requirement already satisfied: charset-normalizer<4,>=2 in /opt/conda/lib/python3.10/site-packages (from requests<3,>=2.21.0->tensorboard<2.13,>=2.12->tensorflow) (3.1.0)\r\n",
      "Requirement already satisfied: idna<4,>=2.5 in /opt/conda/lib/python3.10/site-packages (from requests<3,>=2.21.0->tensorboard<2.13,>=2.12->tensorflow) (3.4)\r\n",
      "Requirement already satisfied: certifi>=2017.4.17 in /opt/conda/lib/python3.10/site-packages (from requests<3,>=2.21.0->tensorboard<2.13,>=2.12->tensorflow) (2023.5.7)\r\n",
      "Requirement already satisfied: MarkupSafe>=2.1.1 in /opt/conda/lib/python3.10/site-packages (from werkzeug>=1.0.1->tensorboard<2.13,>=2.12->tensorflow) (2.1.3)\r\n",
      "Requirement already satisfied: pyasn1<0.5.0,>=0.4.6 in /opt/conda/lib/python3.10/site-packages (from pyasn1-modules>=0.2.1->google-auth<3,>=1.6.3->tensorboard<2.13,>=2.12->tensorflow) (0.4.8)\r\n",
      "Requirement already satisfied: oauthlib>=3.0.0 in /opt/conda/lib/python3.10/site-packages (from requests-oauthlib>=0.7.0->google-auth-oauthlib<1.1,>=0.5->tensorboard<2.13,>=2.12->tensorflow) (3.2.2)\r\n"
     ]
    }
   ],
   "source": [
    "!pip install tensorflow"
   ]
  },
  {
   "cell_type": "code",
   "execution_count": 2,
   "id": "fd181383",
   "metadata": {
    "execution": {
     "iopub.execute_input": "2023-09-03T15:24:56.611573Z",
     "iopub.status.busy": "2023-09-03T15:24:56.611190Z",
     "iopub.status.idle": "2023-09-03T15:24:56.729708Z",
     "shell.execute_reply": "2023-09-03T15:24:56.728701Z"
    },
    "papermill": {
     "duration": 0.138015,
     "end_time": "2023-09-03T15:24:56.732097",
     "exception": false,
     "start_time": "2023-09-03T15:24:56.594082",
     "status": "completed"
    },
    "tags": []
   },
   "outputs": [],
   "source": [
    "import numpy as np\n",
    "import pandas as pd\n",
    "import os\n",
    "import pydicom as pyd\n",
    "from pydicom import filereader\n",
    "import matplotlib.pyplot as plt\n",
    "\n",
    "# import tflearn\n",
    "# from tflearn.layers.conv import conv_2d, max_pool_2d\n",
    "# from tflearn.layers.core import input_data, dropout, fully_connected\n",
    "# from tflearn.layers.estimator import regression\n",
    "# from tflearn.objectives import binary_crossentropy"
   ]
  },
  {
   "cell_type": "markdown",
   "id": "d404f041",
   "metadata": {
    "papermill": {
     "duration": 0.014904,
     "end_time": "2023-09-03T15:24:56.762539",
     "exception": false,
     "start_time": "2023-09-03T15:24:56.747635",
     "status": "completed"
    },
    "tags": []
   },
   "source": [
    "# 2. Data Investigation\n",
    "\n",
    "* Train.csv shows each patient's medical history in a multi-class format. Describing which abdominal feature is either healthy/injury or healthy/low/high\n",
    "\n",
    "* Test/Train images contains the actual CT scanning imagery in DCM format, the standard format for medical scans, which has directories of each patient, with either one or two series that contain instances of scans\n",
    "\n",
    "* image_labels contain the CT scan labels of the images (instances) that contain either bowel or extravasation injuries.\n",
    "\n",
    "\n",
    "* IMPORTANT: the directory train_images are structured as [ train_images / patientID / seriesID / image_instance ]"
   ]
  },
  {
   "cell_type": "markdown",
   "id": "e9517e8d",
   "metadata": {
    "papermill": {
     "duration": 0.015012,
     "end_time": "2023-09-03T15:24:56.793396",
     "exception": false,
     "start_time": "2023-09-03T15:24:56.778384",
     "status": "completed"
    },
    "tags": []
   },
   "source": [
    "## 2.1 Loading Data"
   ]
  },
  {
   "cell_type": "code",
   "execution_count": 3,
   "id": "bd335eb6",
   "metadata": {
    "execution": {
     "iopub.execute_input": "2023-09-03T15:24:56.826153Z",
     "iopub.status.busy": "2023-09-03T15:24:56.825170Z",
     "iopub.status.idle": "2023-09-03T15:24:56.862690Z",
     "shell.execute_reply": "2023-09-03T15:24:56.861701Z"
    },
    "papermill": {
     "duration": 0.055994,
     "end_time": "2023-09-03T15:24:56.864919",
     "exception": false,
     "start_time": "2023-09-03T15:24:56.808925",
     "status": "completed"
    },
    "tags": []
   },
   "outputs": [],
   "source": [
    "train = pd.read_csv(\"/kaggle/input/rsna-2023-abdominal-trauma-detection/train.csv\")\n",
    "image_labels = pd.read_csv(\"/kaggle/input/rsna-2023-abdominal-trauma-detection/image_level_labels.csv\")\n",
    "#   pyd.dcmread() for CT images"
   ]
  },
  {
   "cell_type": "code",
   "execution_count": 4,
   "id": "bc656100",
   "metadata": {
    "execution": {
     "iopub.execute_input": "2023-09-03T15:24:56.897531Z",
     "iopub.status.busy": "2023-09-03T15:24:56.896635Z",
     "iopub.status.idle": "2023-09-03T15:24:56.924049Z",
     "shell.execute_reply": "2023-09-03T15:24:56.922963Z"
    },
    "papermill": {
     "duration": 0.046475,
     "end_time": "2023-09-03T15:24:56.926924",
     "exception": false,
     "start_time": "2023-09-03T15:24:56.880449",
     "status": "completed"
    },
    "tags": []
   },
   "outputs": [
    {
     "data": {
      "text/html": [
       "<div>\n",
       "<style scoped>\n",
       "    .dataframe tbody tr th:only-of-type {\n",
       "        vertical-align: middle;\n",
       "    }\n",
       "\n",
       "    .dataframe tbody tr th {\n",
       "        vertical-align: top;\n",
       "    }\n",
       "\n",
       "    .dataframe thead th {\n",
       "        text-align: right;\n",
       "    }\n",
       "</style>\n",
       "<table border=\"1\" class=\"dataframe\">\n",
       "  <thead>\n",
       "    <tr style=\"text-align: right;\">\n",
       "      <th></th>\n",
       "      <th>patient_id</th>\n",
       "      <th>bowel_healthy</th>\n",
       "      <th>bowel_injury</th>\n",
       "      <th>extravasation_healthy</th>\n",
       "      <th>extravasation_injury</th>\n",
       "      <th>kidney_healthy</th>\n",
       "      <th>kidney_low</th>\n",
       "      <th>kidney_high</th>\n",
       "      <th>liver_healthy</th>\n",
       "      <th>liver_low</th>\n",
       "      <th>liver_high</th>\n",
       "      <th>spleen_healthy</th>\n",
       "      <th>spleen_low</th>\n",
       "      <th>spleen_high</th>\n",
       "      <th>any_injury</th>\n",
       "    </tr>\n",
       "  </thead>\n",
       "  <tbody>\n",
       "    <tr>\n",
       "      <th>493</th>\n",
       "      <td>19</td>\n",
       "      <td>1</td>\n",
       "      <td>0</td>\n",
       "      <td>1</td>\n",
       "      <td>0</td>\n",
       "      <td>1</td>\n",
       "      <td>0</td>\n",
       "      <td>0</td>\n",
       "      <td>1</td>\n",
       "      <td>0</td>\n",
       "      <td>0</td>\n",
       "      <td>1</td>\n",
       "      <td>0</td>\n",
       "      <td>0</td>\n",
       "      <td>0</td>\n",
       "    </tr>\n",
       "    <tr>\n",
       "      <th>866</th>\n",
       "      <td>26</td>\n",
       "      <td>1</td>\n",
       "      <td>0</td>\n",
       "      <td>1</td>\n",
       "      <td>0</td>\n",
       "      <td>1</td>\n",
       "      <td>0</td>\n",
       "      <td>0</td>\n",
       "      <td>1</td>\n",
       "      <td>0</td>\n",
       "      <td>0</td>\n",
       "      <td>1</td>\n",
       "      <td>0</td>\n",
       "      <td>0</td>\n",
       "      <td>0</td>\n",
       "    </tr>\n",
       "    <tr>\n",
       "      <th>1268</th>\n",
       "      <td>33</td>\n",
       "      <td>0</td>\n",
       "      <td>1</td>\n",
       "      <td>0</td>\n",
       "      <td>1</td>\n",
       "      <td>1</td>\n",
       "      <td>0</td>\n",
       "      <td>0</td>\n",
       "      <td>0</td>\n",
       "      <td>1</td>\n",
       "      <td>0</td>\n",
       "      <td>1</td>\n",
       "      <td>0</td>\n",
       "      <td>0</td>\n",
       "      <td>1</td>\n",
       "    </tr>\n",
       "    <tr>\n",
       "      <th>1788</th>\n",
       "      <td>43</td>\n",
       "      <td>0</td>\n",
       "      <td>1</td>\n",
       "      <td>0</td>\n",
       "      <td>1</td>\n",
       "      <td>1</td>\n",
       "      <td>0</td>\n",
       "      <td>0</td>\n",
       "      <td>1</td>\n",
       "      <td>0</td>\n",
       "      <td>0</td>\n",
       "      <td>1</td>\n",
       "      <td>0</td>\n",
       "      <td>0</td>\n",
       "      <td>1</td>\n",
       "    </tr>\n",
       "    <tr>\n",
       "      <th>3129</th>\n",
       "      <td>96</td>\n",
       "      <td>1</td>\n",
       "      <td>0</td>\n",
       "      <td>1</td>\n",
       "      <td>0</td>\n",
       "      <td>1</td>\n",
       "      <td>0</td>\n",
       "      <td>0</td>\n",
       "      <td>1</td>\n",
       "      <td>0</td>\n",
       "      <td>0</td>\n",
       "      <td>1</td>\n",
       "      <td>0</td>\n",
       "      <td>0</td>\n",
       "      <td>0</td>\n",
       "    </tr>\n",
       "    <tr>\n",
       "      <th>...</th>\n",
       "      <td>...</td>\n",
       "      <td>...</td>\n",
       "      <td>...</td>\n",
       "      <td>...</td>\n",
       "      <td>...</td>\n",
       "      <td>...</td>\n",
       "      <td>...</td>\n",
       "      <td>...</td>\n",
       "      <td>...</td>\n",
       "      <td>...</td>\n",
       "      <td>...</td>\n",
       "      <td>...</td>\n",
       "      <td>...</td>\n",
       "      <td>...</td>\n",
       "      <td>...</td>\n",
       "    </tr>\n",
       "    <tr>\n",
       "      <th>2971</th>\n",
       "      <td>65450</td>\n",
       "      <td>1</td>\n",
       "      <td>0</td>\n",
       "      <td>1</td>\n",
       "      <td>0</td>\n",
       "      <td>1</td>\n",
       "      <td>0</td>\n",
       "      <td>0</td>\n",
       "      <td>1</td>\n",
       "      <td>0</td>\n",
       "      <td>0</td>\n",
       "      <td>1</td>\n",
       "      <td>0</td>\n",
       "      <td>0</td>\n",
       "      <td>0</td>\n",
       "    </tr>\n",
       "    <tr>\n",
       "      <th>2972</th>\n",
       "      <td>65456</td>\n",
       "      <td>0</td>\n",
       "      <td>1</td>\n",
       "      <td>1</td>\n",
       "      <td>0</td>\n",
       "      <td>1</td>\n",
       "      <td>0</td>\n",
       "      <td>0</td>\n",
       "      <td>1</td>\n",
       "      <td>0</td>\n",
       "      <td>0</td>\n",
       "      <td>0</td>\n",
       "      <td>0</td>\n",
       "      <td>1</td>\n",
       "      <td>1</td>\n",
       "    </tr>\n",
       "    <tr>\n",
       "      <th>2973</th>\n",
       "      <td>65495</td>\n",
       "      <td>1</td>\n",
       "      <td>0</td>\n",
       "      <td>1</td>\n",
       "      <td>0</td>\n",
       "      <td>1</td>\n",
       "      <td>0</td>\n",
       "      <td>0</td>\n",
       "      <td>1</td>\n",
       "      <td>0</td>\n",
       "      <td>0</td>\n",
       "      <td>1</td>\n",
       "      <td>0</td>\n",
       "      <td>0</td>\n",
       "      <td>0</td>\n",
       "    </tr>\n",
       "    <tr>\n",
       "      <th>2975</th>\n",
       "      <td>65504</td>\n",
       "      <td>1</td>\n",
       "      <td>0</td>\n",
       "      <td>1</td>\n",
       "      <td>0</td>\n",
       "      <td>1</td>\n",
       "      <td>0</td>\n",
       "      <td>0</td>\n",
       "      <td>0</td>\n",
       "      <td>1</td>\n",
       "      <td>0</td>\n",
       "      <td>0</td>\n",
       "      <td>0</td>\n",
       "      <td>1</td>\n",
       "      <td>1</td>\n",
       "    </tr>\n",
       "    <tr>\n",
       "      <th>2976</th>\n",
       "      <td>65508</td>\n",
       "      <td>1</td>\n",
       "      <td>0</td>\n",
       "      <td>1</td>\n",
       "      <td>0</td>\n",
       "      <td>1</td>\n",
       "      <td>0</td>\n",
       "      <td>0</td>\n",
       "      <td>1</td>\n",
       "      <td>0</td>\n",
       "      <td>0</td>\n",
       "      <td>1</td>\n",
       "      <td>0</td>\n",
       "      <td>0</td>\n",
       "      <td>0</td>\n",
       "    </tr>\n",
       "  </tbody>\n",
       "</table>\n",
       "<p>3147 rows × 15 columns</p>\n",
       "</div>"
      ],
      "text/plain": [
       "      patient_id  bowel_healthy  bowel_injury  extravasation_healthy  \\\n",
       "493           19              1             0                      1   \n",
       "866           26              1             0                      1   \n",
       "1268          33              0             1                      0   \n",
       "1788          43              0             1                      0   \n",
       "3129          96              1             0                      1   \n",
       "...          ...            ...           ...                    ...   \n",
       "2971       65450              1             0                      1   \n",
       "2972       65456              0             1                      1   \n",
       "2973       65495              1             0                      1   \n",
       "2975       65504              1             0                      1   \n",
       "2976       65508              1             0                      1   \n",
       "\n",
       "      extravasation_injury  kidney_healthy  kidney_low  kidney_high  \\\n",
       "493                      0               1           0            0   \n",
       "866                      0               1           0            0   \n",
       "1268                     1               1           0            0   \n",
       "1788                     1               1           0            0   \n",
       "3129                     0               1           0            0   \n",
       "...                    ...             ...         ...          ...   \n",
       "2971                     0               1           0            0   \n",
       "2972                     0               1           0            0   \n",
       "2973                     0               1           0            0   \n",
       "2975                     0               1           0            0   \n",
       "2976                     0               1           0            0   \n",
       "\n",
       "      liver_healthy  liver_low  liver_high  spleen_healthy  spleen_low  \\\n",
       "493               1          0           0               1           0   \n",
       "866               1          0           0               1           0   \n",
       "1268              0          1           0               1           0   \n",
       "1788              1          0           0               1           0   \n",
       "3129              1          0           0               1           0   \n",
       "...             ...        ...         ...             ...         ...   \n",
       "2971              1          0           0               1           0   \n",
       "2972              1          0           0               0           0   \n",
       "2973              1          0           0               1           0   \n",
       "2975              0          1           0               0           0   \n",
       "2976              1          0           0               1           0   \n",
       "\n",
       "      spleen_high  any_injury  \n",
       "493             0           0  \n",
       "866             0           0  \n",
       "1268            0           1  \n",
       "1788            0           1  \n",
       "3129            0           0  \n",
       "...           ...         ...  \n",
       "2971            0           0  \n",
       "2972            1           1  \n",
       "2973            0           0  \n",
       "2975            1           1  \n",
       "2976            0           0  \n",
       "\n",
       "[3147 rows x 15 columns]"
      ]
     },
     "execution_count": 4,
     "metadata": {},
     "output_type": "execute_result"
    }
   ],
   "source": [
    "train = train.sort_values(\"patient_id\")\n",
    "train"
   ]
  },
  {
   "cell_type": "code",
   "execution_count": 5,
   "id": "69dab1b9",
   "metadata": {
    "execution": {
     "iopub.execute_input": "2023-09-03T15:24:56.959906Z",
     "iopub.status.busy": "2023-09-03T15:24:56.959564Z",
     "iopub.status.idle": "2023-09-03T15:24:56.981485Z",
     "shell.execute_reply": "2023-09-03T15:24:56.980489Z"
    },
    "papermill": {
     "duration": 0.040315,
     "end_time": "2023-09-03T15:24:56.983465",
     "exception": false,
     "start_time": "2023-09-03T15:24:56.943150",
     "status": "completed"
    },
    "tags": []
   },
   "outputs": [
    {
     "data": {
      "text/html": [
       "<div>\n",
       "<style scoped>\n",
       "    .dataframe tbody tr th:only-of-type {\n",
       "        vertical-align: middle;\n",
       "    }\n",
       "\n",
       "    .dataframe tbody tr th {\n",
       "        vertical-align: top;\n",
       "    }\n",
       "\n",
       "    .dataframe thead th {\n",
       "        text-align: right;\n",
       "    }\n",
       "</style>\n",
       "<table border=\"1\" class=\"dataframe\">\n",
       "  <thead>\n",
       "    <tr style=\"text-align: right;\">\n",
       "      <th></th>\n",
       "      <th>patient_id</th>\n",
       "      <th>series_id</th>\n",
       "      <th>instance_number</th>\n",
       "      <th>injury_name</th>\n",
       "    </tr>\n",
       "  </thead>\n",
       "  <tbody>\n",
       "    <tr>\n",
       "      <th>4696</th>\n",
       "      <td>33</td>\n",
       "      <td>55570</td>\n",
       "      <td>93</td>\n",
       "      <td>Bowel</td>\n",
       "    </tr>\n",
       "    <tr>\n",
       "      <th>4697</th>\n",
       "      <td>33</td>\n",
       "      <td>55570</td>\n",
       "      <td>94</td>\n",
       "      <td>Bowel</td>\n",
       "    </tr>\n",
       "    <tr>\n",
       "      <th>4698</th>\n",
       "      <td>33</td>\n",
       "      <td>55570</td>\n",
       "      <td>95</td>\n",
       "      <td>Bowel</td>\n",
       "    </tr>\n",
       "    <tr>\n",
       "      <th>4699</th>\n",
       "      <td>33</td>\n",
       "      <td>55570</td>\n",
       "      <td>96</td>\n",
       "      <td>Bowel</td>\n",
       "    </tr>\n",
       "    <tr>\n",
       "      <th>4700</th>\n",
       "      <td>33</td>\n",
       "      <td>55570</td>\n",
       "      <td>97</td>\n",
       "      <td>Bowel</td>\n",
       "    </tr>\n",
       "    <tr>\n",
       "      <th>...</th>\n",
       "      <td>...</td>\n",
       "      <td>...</td>\n",
       "      <td>...</td>\n",
       "      <td>...</td>\n",
       "    </tr>\n",
       "    <tr>\n",
       "      <th>11555</th>\n",
       "      <td>65456</td>\n",
       "      <td>40781</td>\n",
       "      <td>62</td>\n",
       "      <td>Bowel</td>\n",
       "    </tr>\n",
       "    <tr>\n",
       "      <th>11556</th>\n",
       "      <td>65456</td>\n",
       "      <td>40781</td>\n",
       "      <td>63</td>\n",
       "      <td>Bowel</td>\n",
       "    </tr>\n",
       "    <tr>\n",
       "      <th>11557</th>\n",
       "      <td>65456</td>\n",
       "      <td>40781</td>\n",
       "      <td>64</td>\n",
       "      <td>Bowel</td>\n",
       "    </tr>\n",
       "    <tr>\n",
       "      <th>11558</th>\n",
       "      <td>65456</td>\n",
       "      <td>40781</td>\n",
       "      <td>65</td>\n",
       "      <td>Bowel</td>\n",
       "    </tr>\n",
       "    <tr>\n",
       "      <th>11559</th>\n",
       "      <td>65456</td>\n",
       "      <td>40781</td>\n",
       "      <td>66</td>\n",
       "      <td>Bowel</td>\n",
       "    </tr>\n",
       "  </tbody>\n",
       "</table>\n",
       "<p>12029 rows × 4 columns</p>\n",
       "</div>"
      ],
      "text/plain": [
       "       patient_id  series_id  instance_number injury_name\n",
       "4696           33      55570               93       Bowel\n",
       "4697           33      55570               94       Bowel\n",
       "4698           33      55570               95       Bowel\n",
       "4699           33      55570               96       Bowel\n",
       "4700           33      55570               97       Bowel\n",
       "...           ...        ...              ...         ...\n",
       "11555       65456      40781               62       Bowel\n",
       "11556       65456      40781               63       Bowel\n",
       "11557       65456      40781               64       Bowel\n",
       "11558       65456      40781               65       Bowel\n",
       "11559       65456      40781               66       Bowel\n",
       "\n",
       "[12029 rows x 4 columns]"
      ]
     },
     "execution_count": 5,
     "metadata": {},
     "output_type": "execute_result"
    }
   ],
   "source": [
    "image_labels = image_labels.sort_values([\"patient_id\",\"instance_number\"])\n",
    "image_labels"
   ]
  },
  {
   "cell_type": "code",
   "execution_count": 6,
   "id": "4a2501a3",
   "metadata": {
    "execution": {
     "iopub.execute_input": "2023-09-03T15:24:57.017046Z",
     "iopub.status.busy": "2023-09-03T15:24:57.016235Z",
     "iopub.status.idle": "2023-09-03T15:24:57.024552Z",
     "shell.execute_reply": "2023-09-03T15:24:57.023629Z"
    },
    "papermill": {
     "duration": 0.02703,
     "end_time": "2023-09-03T15:24:57.026606",
     "exception": false,
     "start_time": "2023-09-03T15:24:56.999576",
     "status": "completed"
    },
    "tags": []
   },
   "outputs": [],
   "source": [
    "train = train.reset_index()\n",
    "train = train.drop([\"index\"],axis=1)\n",
    "image_labels = image_labels.reset_index()\n",
    "image_labels = image_labels.drop([\"index\"],axis=1)"
   ]
  },
  {
   "cell_type": "code",
   "execution_count": 7,
   "id": "24017abe",
   "metadata": {
    "execution": {
     "iopub.execute_input": "2023-09-03T15:24:57.060673Z",
     "iopub.status.busy": "2023-09-03T15:24:57.059756Z",
     "iopub.status.idle": "2023-09-03T15:24:57.075876Z",
     "shell.execute_reply": "2023-09-03T15:24:57.075008Z"
    },
    "papermill": {
     "duration": 0.035098,
     "end_time": "2023-09-03T15:24:57.077911",
     "exception": false,
     "start_time": "2023-09-03T15:24:57.042813",
     "status": "completed"
    },
    "tags": []
   },
   "outputs": [
    {
     "data": {
      "text/html": [
       "<div>\n",
       "<style scoped>\n",
       "    .dataframe tbody tr th:only-of-type {\n",
       "        vertical-align: middle;\n",
       "    }\n",
       "\n",
       "    .dataframe tbody tr th {\n",
       "        vertical-align: top;\n",
       "    }\n",
       "\n",
       "    .dataframe thead th {\n",
       "        text-align: right;\n",
       "    }\n",
       "</style>\n",
       "<table border=\"1\" class=\"dataframe\">\n",
       "  <thead>\n",
       "    <tr style=\"text-align: right;\">\n",
       "      <th></th>\n",
       "      <th>patient_id</th>\n",
       "      <th>bowel_healthy</th>\n",
       "      <th>bowel_injury</th>\n",
       "      <th>extravasation_healthy</th>\n",
       "      <th>extravasation_injury</th>\n",
       "      <th>kidney_healthy</th>\n",
       "      <th>kidney_low</th>\n",
       "      <th>kidney_high</th>\n",
       "      <th>liver_healthy</th>\n",
       "      <th>liver_low</th>\n",
       "      <th>liver_high</th>\n",
       "      <th>spleen_healthy</th>\n",
       "      <th>spleen_low</th>\n",
       "      <th>spleen_high</th>\n",
       "      <th>any_injury</th>\n",
       "    </tr>\n",
       "  </thead>\n",
       "  <tbody>\n",
       "    <tr>\n",
       "      <th>0</th>\n",
       "      <td>19</td>\n",
       "      <td>1</td>\n",
       "      <td>0</td>\n",
       "      <td>1</td>\n",
       "      <td>0</td>\n",
       "      <td>1</td>\n",
       "      <td>0</td>\n",
       "      <td>0</td>\n",
       "      <td>1</td>\n",
       "      <td>0</td>\n",
       "      <td>0</td>\n",
       "      <td>1</td>\n",
       "      <td>0</td>\n",
       "      <td>0</td>\n",
       "      <td>0</td>\n",
       "    </tr>\n",
       "    <tr>\n",
       "      <th>1</th>\n",
       "      <td>26</td>\n",
       "      <td>1</td>\n",
       "      <td>0</td>\n",
       "      <td>1</td>\n",
       "      <td>0</td>\n",
       "      <td>1</td>\n",
       "      <td>0</td>\n",
       "      <td>0</td>\n",
       "      <td>1</td>\n",
       "      <td>0</td>\n",
       "      <td>0</td>\n",
       "      <td>1</td>\n",
       "      <td>0</td>\n",
       "      <td>0</td>\n",
       "      <td>0</td>\n",
       "    </tr>\n",
       "    <tr>\n",
       "      <th>2</th>\n",
       "      <td>33</td>\n",
       "      <td>0</td>\n",
       "      <td>1</td>\n",
       "      <td>0</td>\n",
       "      <td>1</td>\n",
       "      <td>1</td>\n",
       "      <td>0</td>\n",
       "      <td>0</td>\n",
       "      <td>0</td>\n",
       "      <td>1</td>\n",
       "      <td>0</td>\n",
       "      <td>1</td>\n",
       "      <td>0</td>\n",
       "      <td>0</td>\n",
       "      <td>1</td>\n",
       "    </tr>\n",
       "    <tr>\n",
       "      <th>3</th>\n",
       "      <td>43</td>\n",
       "      <td>0</td>\n",
       "      <td>1</td>\n",
       "      <td>0</td>\n",
       "      <td>1</td>\n",
       "      <td>1</td>\n",
       "      <td>0</td>\n",
       "      <td>0</td>\n",
       "      <td>1</td>\n",
       "      <td>0</td>\n",
       "      <td>0</td>\n",
       "      <td>1</td>\n",
       "      <td>0</td>\n",
       "      <td>0</td>\n",
       "      <td>1</td>\n",
       "    </tr>\n",
       "    <tr>\n",
       "      <th>4</th>\n",
       "      <td>96</td>\n",
       "      <td>1</td>\n",
       "      <td>0</td>\n",
       "      <td>1</td>\n",
       "      <td>0</td>\n",
       "      <td>1</td>\n",
       "      <td>0</td>\n",
       "      <td>0</td>\n",
       "      <td>1</td>\n",
       "      <td>0</td>\n",
       "      <td>0</td>\n",
       "      <td>1</td>\n",
       "      <td>0</td>\n",
       "      <td>0</td>\n",
       "      <td>0</td>\n",
       "    </tr>\n",
       "    <tr>\n",
       "      <th>...</th>\n",
       "      <td>...</td>\n",
       "      <td>...</td>\n",
       "      <td>...</td>\n",
       "      <td>...</td>\n",
       "      <td>...</td>\n",
       "      <td>...</td>\n",
       "      <td>...</td>\n",
       "      <td>...</td>\n",
       "      <td>...</td>\n",
       "      <td>...</td>\n",
       "      <td>...</td>\n",
       "      <td>...</td>\n",
       "      <td>...</td>\n",
       "      <td>...</td>\n",
       "      <td>...</td>\n",
       "    </tr>\n",
       "    <tr>\n",
       "      <th>3142</th>\n",
       "      <td>65450</td>\n",
       "      <td>1</td>\n",
       "      <td>0</td>\n",
       "      <td>1</td>\n",
       "      <td>0</td>\n",
       "      <td>1</td>\n",
       "      <td>0</td>\n",
       "      <td>0</td>\n",
       "      <td>1</td>\n",
       "      <td>0</td>\n",
       "      <td>0</td>\n",
       "      <td>1</td>\n",
       "      <td>0</td>\n",
       "      <td>0</td>\n",
       "      <td>0</td>\n",
       "    </tr>\n",
       "    <tr>\n",
       "      <th>3143</th>\n",
       "      <td>65456</td>\n",
       "      <td>0</td>\n",
       "      <td>1</td>\n",
       "      <td>1</td>\n",
       "      <td>0</td>\n",
       "      <td>1</td>\n",
       "      <td>0</td>\n",
       "      <td>0</td>\n",
       "      <td>1</td>\n",
       "      <td>0</td>\n",
       "      <td>0</td>\n",
       "      <td>0</td>\n",
       "      <td>0</td>\n",
       "      <td>1</td>\n",
       "      <td>1</td>\n",
       "    </tr>\n",
       "    <tr>\n",
       "      <th>3144</th>\n",
       "      <td>65495</td>\n",
       "      <td>1</td>\n",
       "      <td>0</td>\n",
       "      <td>1</td>\n",
       "      <td>0</td>\n",
       "      <td>1</td>\n",
       "      <td>0</td>\n",
       "      <td>0</td>\n",
       "      <td>1</td>\n",
       "      <td>0</td>\n",
       "      <td>0</td>\n",
       "      <td>1</td>\n",
       "      <td>0</td>\n",
       "      <td>0</td>\n",
       "      <td>0</td>\n",
       "    </tr>\n",
       "    <tr>\n",
       "      <th>3145</th>\n",
       "      <td>65504</td>\n",
       "      <td>1</td>\n",
       "      <td>0</td>\n",
       "      <td>1</td>\n",
       "      <td>0</td>\n",
       "      <td>1</td>\n",
       "      <td>0</td>\n",
       "      <td>0</td>\n",
       "      <td>0</td>\n",
       "      <td>1</td>\n",
       "      <td>0</td>\n",
       "      <td>0</td>\n",
       "      <td>0</td>\n",
       "      <td>1</td>\n",
       "      <td>1</td>\n",
       "    </tr>\n",
       "    <tr>\n",
       "      <th>3146</th>\n",
       "      <td>65508</td>\n",
       "      <td>1</td>\n",
       "      <td>0</td>\n",
       "      <td>1</td>\n",
       "      <td>0</td>\n",
       "      <td>1</td>\n",
       "      <td>0</td>\n",
       "      <td>0</td>\n",
       "      <td>1</td>\n",
       "      <td>0</td>\n",
       "      <td>0</td>\n",
       "      <td>1</td>\n",
       "      <td>0</td>\n",
       "      <td>0</td>\n",
       "      <td>0</td>\n",
       "    </tr>\n",
       "  </tbody>\n",
       "</table>\n",
       "<p>3147 rows × 15 columns</p>\n",
       "</div>"
      ],
      "text/plain": [
       "      patient_id  bowel_healthy  bowel_injury  extravasation_healthy  \\\n",
       "0             19              1             0                      1   \n",
       "1             26              1             0                      1   \n",
       "2             33              0             1                      0   \n",
       "3             43              0             1                      0   \n",
       "4             96              1             0                      1   \n",
       "...          ...            ...           ...                    ...   \n",
       "3142       65450              1             0                      1   \n",
       "3143       65456              0             1                      1   \n",
       "3144       65495              1             0                      1   \n",
       "3145       65504              1             0                      1   \n",
       "3146       65508              1             0                      1   \n",
       "\n",
       "      extravasation_injury  kidney_healthy  kidney_low  kidney_high  \\\n",
       "0                        0               1           0            0   \n",
       "1                        0               1           0            0   \n",
       "2                        1               1           0            0   \n",
       "3                        1               1           0            0   \n",
       "4                        0               1           0            0   \n",
       "...                    ...             ...         ...          ...   \n",
       "3142                     0               1           0            0   \n",
       "3143                     0               1           0            0   \n",
       "3144                     0               1           0            0   \n",
       "3145                     0               1           0            0   \n",
       "3146                     0               1           0            0   \n",
       "\n",
       "      liver_healthy  liver_low  liver_high  spleen_healthy  spleen_low  \\\n",
       "0                 1          0           0               1           0   \n",
       "1                 1          0           0               1           0   \n",
       "2                 0          1           0               1           0   \n",
       "3                 1          0           0               1           0   \n",
       "4                 1          0           0               1           0   \n",
       "...             ...        ...         ...             ...         ...   \n",
       "3142              1          0           0               1           0   \n",
       "3143              1          0           0               0           0   \n",
       "3144              1          0           0               1           0   \n",
       "3145              0          1           0               0           0   \n",
       "3146              1          0           0               1           0   \n",
       "\n",
       "      spleen_high  any_injury  \n",
       "0               0           0  \n",
       "1               0           0  \n",
       "2               0           1  \n",
       "3               0           1  \n",
       "4               0           0  \n",
       "...           ...         ...  \n",
       "3142            0           0  \n",
       "3143            1           1  \n",
       "3144            0           0  \n",
       "3145            1           1  \n",
       "3146            0           0  \n",
       "\n",
       "[3147 rows x 15 columns]"
      ]
     },
     "execution_count": 7,
     "metadata": {},
     "output_type": "execute_result"
    }
   ],
   "source": [
    "train"
   ]
  },
  {
   "cell_type": "code",
   "execution_count": 8,
   "id": "7e283d93",
   "metadata": {
    "execution": {
     "iopub.execute_input": "2023-09-03T15:24:57.112355Z",
     "iopub.status.busy": "2023-09-03T15:24:57.111732Z",
     "iopub.status.idle": "2023-09-03T15:24:57.123569Z",
     "shell.execute_reply": "2023-09-03T15:24:57.122458Z"
    },
    "papermill": {
     "duration": 0.031057,
     "end_time": "2023-09-03T15:24:57.125799",
     "exception": false,
     "start_time": "2023-09-03T15:24:57.094742",
     "status": "completed"
    },
    "tags": []
   },
   "outputs": [
    {
     "data": {
      "text/html": [
       "<div>\n",
       "<style scoped>\n",
       "    .dataframe tbody tr th:only-of-type {\n",
       "        vertical-align: middle;\n",
       "    }\n",
       "\n",
       "    .dataframe tbody tr th {\n",
       "        vertical-align: top;\n",
       "    }\n",
       "\n",
       "    .dataframe thead th {\n",
       "        text-align: right;\n",
       "    }\n",
       "</style>\n",
       "<table border=\"1\" class=\"dataframe\">\n",
       "  <thead>\n",
       "    <tr style=\"text-align: right;\">\n",
       "      <th></th>\n",
       "      <th>patient_id</th>\n",
       "      <th>series_id</th>\n",
       "      <th>instance_number</th>\n",
       "      <th>injury_name</th>\n",
       "    </tr>\n",
       "  </thead>\n",
       "  <tbody>\n",
       "    <tr>\n",
       "      <th>0</th>\n",
       "      <td>33</td>\n",
       "      <td>55570</td>\n",
       "      <td>93</td>\n",
       "      <td>Bowel</td>\n",
       "    </tr>\n",
       "    <tr>\n",
       "      <th>1</th>\n",
       "      <td>33</td>\n",
       "      <td>55570</td>\n",
       "      <td>94</td>\n",
       "      <td>Bowel</td>\n",
       "    </tr>\n",
       "    <tr>\n",
       "      <th>2</th>\n",
       "      <td>33</td>\n",
       "      <td>55570</td>\n",
       "      <td>95</td>\n",
       "      <td>Bowel</td>\n",
       "    </tr>\n",
       "    <tr>\n",
       "      <th>3</th>\n",
       "      <td>33</td>\n",
       "      <td>55570</td>\n",
       "      <td>96</td>\n",
       "      <td>Bowel</td>\n",
       "    </tr>\n",
       "    <tr>\n",
       "      <th>4</th>\n",
       "      <td>33</td>\n",
       "      <td>55570</td>\n",
       "      <td>97</td>\n",
       "      <td>Bowel</td>\n",
       "    </tr>\n",
       "    <tr>\n",
       "      <th>...</th>\n",
       "      <td>...</td>\n",
       "      <td>...</td>\n",
       "      <td>...</td>\n",
       "      <td>...</td>\n",
       "    </tr>\n",
       "    <tr>\n",
       "      <th>12024</th>\n",
       "      <td>65456</td>\n",
       "      <td>40781</td>\n",
       "      <td>62</td>\n",
       "      <td>Bowel</td>\n",
       "    </tr>\n",
       "    <tr>\n",
       "      <th>12025</th>\n",
       "      <td>65456</td>\n",
       "      <td>40781</td>\n",
       "      <td>63</td>\n",
       "      <td>Bowel</td>\n",
       "    </tr>\n",
       "    <tr>\n",
       "      <th>12026</th>\n",
       "      <td>65456</td>\n",
       "      <td>40781</td>\n",
       "      <td>64</td>\n",
       "      <td>Bowel</td>\n",
       "    </tr>\n",
       "    <tr>\n",
       "      <th>12027</th>\n",
       "      <td>65456</td>\n",
       "      <td>40781</td>\n",
       "      <td>65</td>\n",
       "      <td>Bowel</td>\n",
       "    </tr>\n",
       "    <tr>\n",
       "      <th>12028</th>\n",
       "      <td>65456</td>\n",
       "      <td>40781</td>\n",
       "      <td>66</td>\n",
       "      <td>Bowel</td>\n",
       "    </tr>\n",
       "  </tbody>\n",
       "</table>\n",
       "<p>12029 rows × 4 columns</p>\n",
       "</div>"
      ],
      "text/plain": [
       "       patient_id  series_id  instance_number injury_name\n",
       "0              33      55570               93       Bowel\n",
       "1              33      55570               94       Bowel\n",
       "2              33      55570               95       Bowel\n",
       "3              33      55570               96       Bowel\n",
       "4              33      55570               97       Bowel\n",
       "...           ...        ...              ...         ...\n",
       "12024       65456      40781               62       Bowel\n",
       "12025       65456      40781               63       Bowel\n",
       "12026       65456      40781               64       Bowel\n",
       "12027       65456      40781               65       Bowel\n",
       "12028       65456      40781               66       Bowel\n",
       "\n",
       "[12029 rows x 4 columns]"
      ]
     },
     "execution_count": 8,
     "metadata": {},
     "output_type": "execute_result"
    }
   ],
   "source": [
    "image_labels"
   ]
  },
  {
   "cell_type": "code",
   "execution_count": 9,
   "id": "8fe7acd1",
   "metadata": {
    "execution": {
     "iopub.execute_input": "2023-09-03T15:24:57.162372Z",
     "iopub.status.busy": "2023-09-03T15:24:57.161381Z",
     "iopub.status.idle": "2023-09-03T15:24:57.170570Z",
     "shell.execute_reply": "2023-09-03T15:24:57.169554Z"
    },
    "papermill": {
     "duration": 0.029226,
     "end_time": "2023-09-03T15:24:57.172764",
     "exception": false,
     "start_time": "2023-09-03T15:24:57.143538",
     "status": "completed"
    },
    "tags": []
   },
   "outputs": [
    {
     "data": {
      "text/plain": [
       "patient_id               32664.239593\n",
       "bowel_healthy                0.979663\n",
       "bowel_injury                 0.020337\n",
       "extravasation_healthy        0.936447\n",
       "extravasation_injury         0.063553\n",
       "kidney_healthy               0.942167\n",
       "kidney_low                   0.036543\n",
       "kidney_high                  0.021290\n",
       "liver_healthy                0.897998\n",
       "liver_low                    0.082301\n",
       "liver_high                   0.019701\n",
       "spleen_healthy               0.887512\n",
       "spleen_low                   0.063235\n",
       "spleen_high                  0.049253\n",
       "any_injury                   0.271687\n",
       "dtype: float64"
      ]
     },
     "execution_count": 9,
     "metadata": {},
     "output_type": "execute_result"
    }
   ],
   "source": [
    "train.mean()"
   ]
  },
  {
   "cell_type": "markdown",
   "id": "de8b45e2",
   "metadata": {
    "papermill": {
     "duration": 0.01638,
     "end_time": "2023-09-03T15:24:57.206270",
     "exception": false,
     "start_time": "2023-09-03T15:24:57.189890",
     "status": "completed"
    },
    "tags": []
   },
   "source": [
    "# 3. Basic Pre-processing\n",
    "* In this section we plan to perform some optimizations such as,\n",
    "* recropping any dead space in the image such that every pixel counts in the image,\n",
    "* standardization for pixel representation"
   ]
  },
  {
   "cell_type": "markdown",
   "id": "071ae54c",
   "metadata": {
    "papermill": {
     "duration": 0.016327,
     "end_time": "2023-09-03T15:24:57.239183",
     "exception": false,
     "start_time": "2023-09-03T15:24:57.222856",
     "status": "completed"
    },
    "tags": []
   },
   "source": [
    "## 3.1 Optimizing CT image access\n",
    "* adds a path to image_labels which initally shows the labels, relevant to the CT scans in train/test_images, to the images themselves."
   ]
  },
  {
   "cell_type": "code",
   "execution_count": 10,
   "id": "3b583267",
   "metadata": {
    "execution": {
     "iopub.execute_input": "2023-09-03T15:24:57.274720Z",
     "iopub.status.busy": "2023-09-03T15:24:57.273748Z",
     "iopub.status.idle": "2023-09-03T15:24:57.878878Z",
     "shell.execute_reply": "2023-09-03T15:24:57.877916Z"
    },
    "papermill": {
     "duration": 0.625695,
     "end_time": "2023-09-03T15:24:57.881713",
     "exception": false,
     "start_time": "2023-09-03T15:24:57.256018",
     "status": "completed"
    },
    "tags": []
   },
   "outputs": [
    {
     "name": "stdout",
     "output_type": "stream",
     "text": [
      "/kaggle/input/rsna-2023-abdominal-trauma-detection/train_images/33/55570/93.dcm\n"
     ]
    },
    {
     "data": {
      "text/plain": [
       "<matplotlib.image.AxesImage at 0x7d0b7eadd7b0>"
      ]
     },
     "execution_count": 10,
     "metadata": {},
     "output_type": "execute_result"
    },
    {
     "data": {
      "image/png": "[encoded data removed]",
      "text/plain": [
       "<Figure size 640x480 with 1 Axes>"
      ]
     },
     "metadata": {},
     "output_type": "display_data"
    }
   ],
   "source": [
    "def train_CT_img_path(row):\n",
    "    return f\"/kaggle/input/rsna-2023-abdominal-trauma-detection/train_images/{row['patient_id']}/{row['series_id']}/{row['instance_number']}.dcm\"\n",
    "\n",
    "image_labels['img_path'] = image_labels.apply(train_CT_img_path, axis=1)\n",
    "print(image_labels.loc[0,'img_path'])\n",
    "instance = pyd.dcmread(image_labels.loc[0, 'img_path'])\n",
    "plt.imshow(instance.pixel_array, cmap='gray')"
   ]
  },
  {
   "cell_type": "code",
   "execution_count": 11,
   "id": "b0a9fe97",
   "metadata": {
    "execution": {
     "iopub.execute_input": "2023-09-03T15:24:57.919418Z",
     "iopub.status.busy": "2023-09-03T15:24:57.919088Z",
     "iopub.status.idle": "2023-09-03T15:24:57.931554Z",
     "shell.execute_reply": "2023-09-03T15:24:57.930716Z"
    },
    "papermill": {
     "duration": 0.033458,
     "end_time": "2023-09-03T15:24:57.933472",
     "exception": false,
     "start_time": "2023-09-03T15:24:57.900014",
     "status": "completed"
    },
    "tags": []
   },
   "outputs": [
    {
     "data": {
      "text/html": [
       "<div>\n",
       "<style scoped>\n",
       "    .dataframe tbody tr th:only-of-type {\n",
       "        vertical-align: middle;\n",
       "    }\n",
       "\n",
       "    .dataframe tbody tr th {\n",
       "        vertical-align: top;\n",
       "    }\n",
       "\n",
       "    .dataframe thead th {\n",
       "        text-align: right;\n",
       "    }\n",
       "</style>\n",
       "<table border=\"1\" class=\"dataframe\">\n",
       "  <thead>\n",
       "    <tr style=\"text-align: right;\">\n",
       "      <th></th>\n",
       "      <th>patient_id</th>\n",
       "      <th>series_id</th>\n",
       "      <th>instance_number</th>\n",
       "      <th>injury_name</th>\n",
       "      <th>img_path</th>\n",
       "    </tr>\n",
       "  </thead>\n",
       "  <tbody>\n",
       "    <tr>\n",
       "      <th>0</th>\n",
       "      <td>33</td>\n",
       "      <td>55570</td>\n",
       "      <td>93</td>\n",
       "      <td>Bowel</td>\n",
       "      <td>/kaggle/input/rsna-2023-abdominal-trauma-detec...</td>\n",
       "    </tr>\n",
       "    <tr>\n",
       "      <th>1</th>\n",
       "      <td>33</td>\n",
       "      <td>55570</td>\n",
       "      <td>94</td>\n",
       "      <td>Bowel</td>\n",
       "      <td>/kaggle/input/rsna-2023-abdominal-trauma-detec...</td>\n",
       "    </tr>\n",
       "    <tr>\n",
       "      <th>2</th>\n",
       "      <td>33</td>\n",
       "      <td>55570</td>\n",
       "      <td>95</td>\n",
       "      <td>Bowel</td>\n",
       "      <td>/kaggle/input/rsna-2023-abdominal-trauma-detec...</td>\n",
       "    </tr>\n",
       "    <tr>\n",
       "      <th>3</th>\n",
       "      <td>33</td>\n",
       "      <td>55570</td>\n",
       "      <td>96</td>\n",
       "      <td>Bowel</td>\n",
       "      <td>/kaggle/input/rsna-2023-abdominal-trauma-detec...</td>\n",
       "    </tr>\n",
       "    <tr>\n",
       "      <th>4</th>\n",
       "      <td>33</td>\n",
       "      <td>55570</td>\n",
       "      <td>97</td>\n",
       "      <td>Bowel</td>\n",
       "      <td>/kaggle/input/rsna-2023-abdominal-trauma-detec...</td>\n",
       "    </tr>\n",
       "    <tr>\n",
       "      <th>...</th>\n",
       "      <td>...</td>\n",
       "      <td>...</td>\n",
       "      <td>...</td>\n",
       "      <td>...</td>\n",
       "      <td>...</td>\n",
       "    </tr>\n",
       "    <tr>\n",
       "      <th>12024</th>\n",
       "      <td>65456</td>\n",
       "      <td>40781</td>\n",
       "      <td>62</td>\n",
       "      <td>Bowel</td>\n",
       "      <td>/kaggle/input/rsna-2023-abdominal-trauma-detec...</td>\n",
       "    </tr>\n",
       "    <tr>\n",
       "      <th>12025</th>\n",
       "      <td>65456</td>\n",
       "      <td>40781</td>\n",
       "      <td>63</td>\n",
       "      <td>Bowel</td>\n",
       "      <td>/kaggle/input/rsna-2023-abdominal-trauma-detec...</td>\n",
       "    </tr>\n",
       "    <tr>\n",
       "      <th>12026</th>\n",
       "      <td>65456</td>\n",
       "      <td>40781</td>\n",
       "      <td>64</td>\n",
       "      <td>Bowel</td>\n",
       "      <td>/kaggle/input/rsna-2023-abdominal-trauma-detec...</td>\n",
       "    </tr>\n",
       "    <tr>\n",
       "      <th>12027</th>\n",
       "      <td>65456</td>\n",
       "      <td>40781</td>\n",
       "      <td>65</td>\n",
       "      <td>Bowel</td>\n",
       "      <td>/kaggle/input/rsna-2023-abdominal-trauma-detec...</td>\n",
       "    </tr>\n",
       "    <tr>\n",
       "      <th>12028</th>\n",
       "      <td>65456</td>\n",
       "      <td>40781</td>\n",
       "      <td>66</td>\n",
       "      <td>Bowel</td>\n",
       "      <td>/kaggle/input/rsna-2023-abdominal-trauma-detec...</td>\n",
       "    </tr>\n",
       "  </tbody>\n",
       "</table>\n",
       "<p>12029 rows × 5 columns</p>\n",
       "</div>"
      ],
      "text/plain": [
       "       patient_id  series_id  instance_number injury_name  \\\n",
       "0              33      55570               93       Bowel   \n",
       "1              33      55570               94       Bowel   \n",
       "2              33      55570               95       Bowel   \n",
       "3              33      55570               96       Bowel   \n",
       "4              33      55570               97       Bowel   \n",
       "...           ...        ...              ...         ...   \n",
       "12024       65456      40781               62       Bowel   \n",
       "12025       65456      40781               63       Bowel   \n",
       "12026       65456      40781               64       Bowel   \n",
       "12027       65456      40781               65       Bowel   \n",
       "12028       65456      40781               66       Bowel   \n",
       "\n",
       "                                                img_path  \n",
       "0      /kaggle/input/rsna-2023-abdominal-trauma-detec...  \n",
       "1      /kaggle/input/rsna-2023-abdominal-trauma-detec...  \n",
       "2      /kaggle/input/rsna-2023-abdominal-trauma-detec...  \n",
       "3      /kaggle/input/rsna-2023-abdominal-trauma-detec...  \n",
       "4      /kaggle/input/rsna-2023-abdominal-trauma-detec...  \n",
       "...                                                  ...  \n",
       "12024  /kaggle/input/rsna-2023-abdominal-trauma-detec...  \n",
       "12025  /kaggle/input/rsna-2023-abdominal-trauma-detec...  \n",
       "12026  /kaggle/input/rsna-2023-abdominal-trauma-detec...  \n",
       "12027  /kaggle/input/rsna-2023-abdominal-trauma-detec...  \n",
       "12028  /kaggle/input/rsna-2023-abdominal-trauma-detec...  \n",
       "\n",
       "[12029 rows x 5 columns]"
      ]
     },
     "execution_count": 11,
     "metadata": {},
     "output_type": "execute_result"
    }
   ],
   "source": [
    "image_labels"
   ]
  },
  {
   "cell_type": "markdown",
   "id": "ea03c898",
   "metadata": {
    "papermill": {
     "duration": 0.018104,
     "end_time": "2023-09-03T15:24:57.969812",
     "exception": false,
     "start_time": "2023-09-03T15:24:57.951708",
     "status": "completed"
    },
    "tags": []
   },
   "source": [
    "## 3.2 Recropping removing unused pixel data"
   ]
  },
  {
   "cell_type": "code",
   "execution_count": 12,
   "id": "4b1698f2",
   "metadata": {
    "execution": {
     "iopub.execute_input": "2023-09-03T15:24:58.009043Z",
     "iopub.status.busy": "2023-09-03T15:24:58.007908Z",
     "iopub.status.idle": "2023-09-03T15:24:58.208894Z",
     "shell.execute_reply": "2023-09-03T15:24:58.207904Z"
    },
    "papermill": {
     "duration": 0.222817,
     "end_time": "2023-09-03T15:24:58.211267",
     "exception": false,
     "start_time": "2023-09-03T15:24:57.988450",
     "status": "completed"
    },
    "tags": []
   },
   "outputs": [],
   "source": [
    "import cv2\n",
    "crop_size = 250\n",
    "img_size = 75\n",
    "def crop_img(img):\n",
    "    img = img.astype(\"uint8\")\n",
    "#     blur = cv2.GaussianBlur(img, (5, 5), 0)\n",
    "    _, mask = cv2.threshold(img,0,255,cv2.THRESH_BINARY+cv2.THRESH_OTSU)\n",
    "#     plt.imshow(mask, cmap=\"gray\")\n",
    "    cnts, _ = cv2.findContours(mask.astype(np.uint8),cv2.RETR_EXTERNAL, cv2.CHAIN_APPROX_SIMPLE)\n",
    "    cnt = max(cnts, key = cv2.contourArea)\n",
    "    x,y,w,h = cv2.boundingRect(cnt)\n",
    "    return (x,y,w,h)\n",
    "\n",
    "def standardize_img(img):\n",
    "    # input: dcmread img\n",
    "    pixel_arr = img.pixel_array\n",
    "    return np.array(pixel_arr)\n",
    "\n",
    "def center_crop(img, dim):\n",
    "\t\"\"\"Returns center cropped image\n",
    "\tArgs:\n",
    "\timg: image to be center cropped\n",
    "\tdim: dimensions (width, height) to be cropped\n",
    "\t\"\"\"\n",
    "\twidth, height = img.shape[1], img.shape[0]\n",
    "\n",
    "\t# process crop width and height for max available dimension\n",
    "\tcrop_width = dim[0] if dim[0]<img.shape[1] else img.shape[1]\n",
    "\tcrop_height = dim[1] if dim[1]<img.shape[0] else img.shape[0] \n",
    "\tmid_x, mid_y = int(width/2), int(height/2)\n",
    "\tcw2, ch2 = int(crop_width/2), int(crop_height/2) \n",
    "\tcrop_img = img[mid_y-ch2:mid_y+ch2, mid_x-cw2:mid_x+cw2]\n",
    "\treturn crop_img\n",
    "\n",
    "def preprocess(instance, dcm_val=True):\n",
    "    #For images of type DCM ct scans\n",
    "    if dcm_val:\n",
    "        img = pyd.dcmread(instance)\n",
    "        img = standardize_img(img)\n",
    "        x,y,w,h = crop_img(img)\n",
    "        img = img[y:(y+h), x:(x+w)]\n",
    "        img = center_crop(img,(crop_size,crop_size))\n",
    "        img = cv2.resize(img,(img_size,img_size))\n",
    "    #images of type png/jpeg\n",
    "    else:\n",
    "        img = cv2.imread(instance)\n",
    "        cv2.imshow(\"image,\",img)\n",
    "#         img = standardize_img(img)\n",
    "        x,y,w,h = crop_img(img)\n",
    "        img = img[y:(y+h), x:(x+w)]\n",
    "        img = center_crop(img,(crop_size,crop_size))\n",
    "        img = cv2.resize(img,(img_size,img_size))\n",
    "    return img"
   ]
  },
  {
   "cell_type": "markdown",
   "id": "8fbb8c96",
   "metadata": {
    "papermill": {
     "duration": 0.018211,
     "end_time": "2023-09-03T15:24:58.248241",
     "exception": false,
     "start_time": "2023-09-03T15:24:58.230030",
     "status": "completed"
    },
    "tags": []
   },
   "source": [
    "## before and aftger preprocesssing"
   ]
  },
  {
   "cell_type": "code",
   "execution_count": 13,
   "id": "31257350",
   "metadata": {
    "execution": {
     "iopub.execute_input": "2023-09-03T15:24:58.287111Z",
     "iopub.status.busy": "2023-09-03T15:24:58.286284Z",
     "iopub.status.idle": "2023-09-03T15:24:58.291252Z",
     "shell.execute_reply": "2023-09-03T15:24:58.290209Z"
    },
    "papermill": {
     "duration": 0.02706,
     "end_time": "2023-09-03T15:24:58.293758",
     "exception": false,
     "start_time": "2023-09-03T15:24:58.266698",
     "status": "completed"
    },
    "tags": []
   },
   "outputs": [],
   "source": [
    "# plotn = 3\n",
    "# f, axarr = plt.subplots(plotn, 2)\n",
    "# patient_index = train.loc[2,\"patient_id\"]\n",
    "# f.set_figheight(plotn/2*8)\n",
    "# f.set_figwidth(6)\n",
    "# for i in range(plotn):\n",
    "#     inst = image_labels.loc[(image_labels[\"patient_id\"]==patient_index),\"img_path\"][i]\n",
    "#     print(inst)\n",
    "#     axarr[i][1].imshow(preprocess(inst,True), cmap='gray')\n",
    "#     axarr[i][0].imshow(pyd.dcmread(inst).pixel_array, cmap='gray')\n",
    "\n",
    "\n",
    "# for ax, col in zip(axarr[0], ['BASE', 'PREPROCESSED']):\n",
    "#     ax.set_title(col, color='red')\n",
    "    \n",
    "\n"
   ]
  },
  {
   "cell_type": "markdown",
   "id": "9c3cb806",
   "metadata": {
    "papermill": {
     "duration": 0.018295,
     "end_time": "2023-09-03T15:24:58.330676",
     "exception": false,
     "start_time": "2023-09-03T15:24:58.312381",
     "status": "completed"
    },
    "tags": []
   },
   "source": [
    "## CNN image classification for injuries,\n",
    "### Classes include:\n",
    "[ bowel_healthy  \t   bowel_injury\textravasation_healthy\textravasation_injury\tkidney_healthy\tkidney_low\tkidney_high\tliver_healthy\tliver_low\tliver_high\tspleen_healthy\tspleen_low\tspleen_high\t] \n",
    "\n",
    "in a multi-binary format\n",
    "\n",
    "[1,0,1,0,1,0,0,1,0,0,1,0,0] = healthy patient no injury\n",
    "\n",
    "[0,1,1,0,1,0,0,1,0,0,1,0,0] = patient with bowel injury\n",
    "\n",
    "1 healthy and 0 unhealthy\n",
    "\n",
    "At this moment my idea makes most sense for my cnn to learn each patient individually and provide rapid diagnosis\n",
    "\n",
    "But try and investigate how to make a general purpose model that learns instances across multiple patients\n",
    "\n",
    "\n"
   ]
  },
  {
   "cell_type": "markdown",
   "id": "63a56a42",
   "metadata": {
    "papermill": {
     "duration": 0.018242,
     "end_time": "2023-09-03T15:24:58.367377",
     "exception": false,
     "start_time": "2023-09-03T15:24:58.349135",
     "status": "completed"
    },
    "tags": []
   },
   "source": [
    "## Loading Data in X to be train on by a ML model"
   ]
  },
  {
   "cell_type": "markdown",
   "id": "74ab720e",
   "metadata": {
    "papermill": {
     "duration": 0.018315,
     "end_time": "2023-09-03T15:24:58.404215",
     "exception": false,
     "start_time": "2023-09-03T15:24:58.385900",
     "status": "completed"
    },
    "tags": []
   },
   "source": [
    "### Splitting Training and Test Data"
   ]
  },
  {
   "cell_type": "code",
   "execution_count": 14,
   "id": "57f57be6",
   "metadata": {
    "execution": {
     "iopub.execute_input": "2023-09-03T15:24:58.443179Z",
     "iopub.status.busy": "2023-09-03T15:24:58.442108Z",
     "iopub.status.idle": "2023-09-03T15:24:58.451686Z",
     "shell.execute_reply": "2023-09-03T15:24:58.450716Z"
    },
    "papermill": {
     "duration": 0.031224,
     "end_time": "2023-09-03T15:24:58.453671",
     "exception": false,
     "start_time": "2023-09-03T15:24:58.422447",
     "status": "completed"
    },
    "tags": []
   },
   "outputs": [
    {
     "name": "stdout",
     "output_type": "stream",
     "text": [
      "Active_Extravasation    6370\n",
      "Bowel                   5659\n",
      "Name: injury_name, dtype: int64\n"
     ]
    }
   ],
   "source": [
    "print(image_labels[\"injury_name\"].value_counts())"
   ]
  },
  {
   "cell_type": "code",
   "execution_count": 15,
   "id": "cd1b4fb1",
   "metadata": {
    "execution": {
     "iopub.execute_input": "2023-09-03T15:24:58.492984Z",
     "iopub.status.busy": "2023-09-03T15:24:58.492064Z",
     "iopub.status.idle": "2023-09-03T15:24:58.641129Z",
     "shell.execute_reply": "2023-09-03T15:24:58.639844Z"
    },
    "papermill": {
     "duration": 0.171216,
     "end_time": "2023-09-03T15:24:58.643419",
     "exception": false,
     "start_time": "2023-09-03T15:24:58.472203",
     "status": "completed"
    },
    "tags": []
   },
   "outputs": [
    {
     "data": {
      "text/plain": [
       "<Axes: ylabel='injury_name'>"
      ]
     },
     "execution_count": 15,
     "metadata": {},
     "output_type": "execute_result"
    },
    {
     "data": {
      "image/png": "[encoded data removed]",
      "text/plain": [
       "<Figure size 640x480 with 1 Axes>"
      ]
     },
     "metadata": {},
     "output_type": "display_data"
    }
   ],
   "source": [
    "image_labels[\"injury_name\"].value_counts().plot.pie(autopct=\"%.2f\")"
   ]
  },
  {
   "cell_type": "markdown",
   "id": "1771da48",
   "metadata": {
    "papermill": {
     "duration": 0.039789,
     "end_time": "2023-09-03T15:24:58.723368",
     "exception": false,
     "start_time": "2023-09-03T15:24:58.683579",
     "status": "completed"
    },
    "tags": []
   },
   "source": [
    "not too bad"
   ]
  },
  {
   "cell_type": "code",
   "execution_count": 16,
   "id": "02deb4c0",
   "metadata": {
    "execution": {
     "iopub.execute_input": "2023-09-03T15:24:58.762821Z",
     "iopub.status.busy": "2023-09-03T15:24:58.762451Z",
     "iopub.status.idle": "2023-09-03T15:24:58.767446Z",
     "shell.execute_reply": "2023-09-03T15:24:58.766580Z"
    },
    "papermill": {
     "duration": 0.027125,
     "end_time": "2023-09-03T15:24:58.769580",
     "exception": false,
     "start_time": "2023-09-03T15:24:58.742455",
     "status": "completed"
    },
    "tags": []
   },
   "outputs": [
    {
     "name": "stdout",
     "output_type": "stream",
     "text": [
      "12029\n"
     ]
    }
   ],
   "source": [
    "data_size = len(image_labels)\n",
    "print(data_size)"
   ]
  },
  {
   "cell_type": "markdown",
   "id": "53e569b2",
   "metadata": {
    "papermill": {
     "duration": 0.018509,
     "end_time": "2023-09-03T15:24:58.807020",
     "exception": false,
     "start_time": "2023-09-03T15:24:58.788511",
     "status": "completed"
    },
    "tags": []
   },
   "source": [
    "## Produce X_data"
   ]
  },
  {
   "cell_type": "code",
   "execution_count": 17,
   "id": "63c0c8f9",
   "metadata": {
    "execution": {
     "iopub.execute_input": "2023-09-03T15:24:58.847102Z",
     "iopub.status.busy": "2023-09-03T15:24:58.846415Z",
     "iopub.status.idle": "2023-09-03T15:24:58.851438Z",
     "shell.execute_reply": "2023-09-03T15:24:58.850551Z"
    },
    "papermill": {
     "duration": 0.027112,
     "end_time": "2023-09-03T15:24:58.853376",
     "exception": false,
     "start_time": "2023-09-03T15:24:58.826264",
     "status": "completed"
    },
    "tags": []
   },
   "outputs": [],
   "source": [
    "# X_data = []\n",
    "# # CT scans \n",
    "# # FIX THIS CODE SO IT PROCDUCES CORRECT LEARNING DATA\n",
    "# for image in range(data_size):\n",
    "#     if image%100==0:\n",
    "#         print(image)\n",
    "# #     print(image_labels.loc[image,\"img_path\"])\n",
    "#     img = preprocess(image_labels.loc[image, 'img_path'])\n",
    "#     img = img/255\n",
    "#     X_data.append(img)\n",
    "# np.save(\"/kaggle/working/X_data.npy\",X_data )"
   ]
  },
  {
   "cell_type": "markdown",
   "id": "554e72f7",
   "metadata": {
    "papermill": {
     "duration": 0.018575,
     "end_time": "2023-09-03T15:24:58.890732",
     "exception": false,
     "start_time": "2023-09-03T15:24:58.872157",
     "status": "completed"
    },
    "tags": []
   },
   "source": [
    "## Binary classifciaton for a bowel or active extravastion"
   ]
  },
  {
   "cell_type": "code",
   "execution_count": 18,
   "id": "18d35084",
   "metadata": {
    "execution": {
     "iopub.execute_input": "2023-09-03T15:24:58.930082Z",
     "iopub.status.busy": "2023-09-03T15:24:58.929727Z",
     "iopub.status.idle": "2023-09-03T15:24:58.934065Z",
     "shell.execute_reply": "2023-09-03T15:24:58.933162Z"
    },
    "papermill": {
     "duration": 0.026582,
     "end_time": "2023-09-03T15:24:58.936077",
     "exception": false,
     "start_time": "2023-09-03T15:24:58.909495",
     "status": "completed"
    },
    "tags": []
   },
   "outputs": [],
   "source": [
    "# Y_data = []\n",
    "# for injury in image_labels[\"injury_name\"]:\n",
    "#     if injury == \"Active_Extravasation\":\n",
    "#         Y_data.append([1,0])\n",
    "#     elif injury == \"Bowel\":\n",
    "#         Y_data.append([0,1])\n",
    "# # Y_data = Y_data[:int(train[\"patient_id\"].size)]\n",
    "# print(Y_data.__len__())"
   ]
  },
  {
   "cell_type": "code",
   "execution_count": 19,
   "id": "dd7cf892",
   "metadata": {
    "execution": {
     "iopub.execute_input": "2023-09-03T15:24:58.975055Z",
     "iopub.status.busy": "2023-09-03T15:24:58.974428Z",
     "iopub.status.idle": "2023-09-03T15:24:58.979884Z",
     "shell.execute_reply": "2023-09-03T15:24:58.978871Z"
    },
    "papermill": {
     "duration": 0.027276,
     "end_time": "2023-09-03T15:24:58.982050",
     "exception": false,
     "start_time": "2023-09-03T15:24:58.954774",
     "status": "completed"
    },
    "tags": []
   },
   "outputs": [],
   "source": [
    "train_labels = train.drop([\"any_injury\"],axis=1)"
   ]
  },
  {
   "cell_type": "code",
   "execution_count": 20,
   "id": "c5984f89",
   "metadata": {
    "execution": {
     "iopub.execute_input": "2023-09-03T15:24:59.021611Z",
     "iopub.status.busy": "2023-09-03T15:24:59.020965Z",
     "iopub.status.idle": "2023-09-03T15:24:59.029039Z",
     "shell.execute_reply": "2023-09-03T15:24:59.028064Z"
    },
    "papermill": {
     "duration": 0.030146,
     "end_time": "2023-09-03T15:24:59.031002",
     "exception": false,
     "start_time": "2023-09-03T15:24:59.000856",
     "status": "completed"
    },
    "tags": []
   },
   "outputs": [
    {
     "name": "stdout",
     "output_type": "stream",
     "text": [
      "0          19\n",
      "1          26\n",
      "2          33\n",
      "3          43\n",
      "4          96\n",
      "        ...  \n",
      "3142    65450\n",
      "3143    65456\n",
      "3144    65495\n",
      "3145    65504\n",
      "3146    65508\n",
      "Name: patient_id, Length: 3147, dtype: int64\n"
     ]
    }
   ],
   "source": [
    "patient_count = image_labels.groupby('patient_id')['patient_id'].count()\n",
    "print(train_labels[\"patient_id\"])\n"
   ]
  },
  {
   "cell_type": "markdown",
   "id": "8d4a7295",
   "metadata": {
    "papermill": {
     "duration": 0.018597,
     "end_time": "2023-09-03T15:24:59.068410",
     "exception": false,
     "start_time": "2023-09-03T15:24:59.049813",
     "status": "completed"
    },
    "tags": []
   },
   "source": [
    "## Making the Y labels each patients trauma injuries"
   ]
  },
  {
   "cell_type": "markdown",
   "id": "a6eaee33",
   "metadata": {
    "papermill": {
     "duration": 0.01872,
     "end_time": "2023-09-03T15:24:59.105911",
     "exception": false,
     "start_time": "2023-09-03T15:24:59.087191",
     "status": "completed"
    },
    "tags": []
   },
   "source": [
    "add label per patient"
   ]
  },
  {
   "cell_type": "code",
   "execution_count": 21,
   "id": "fc29d786",
   "metadata": {
    "execution": {
     "iopub.execute_input": "2023-09-03T15:24:59.145739Z",
     "iopub.status.busy": "2023-09-03T15:24:59.144744Z",
     "iopub.status.idle": "2023-09-03T15:24:59.369456Z",
     "shell.execute_reply": "2023-09-03T15:24:59.368356Z"
    },
    "papermill": {
     "duration": 0.247049,
     "end_time": "2023-09-03T15:24:59.371740",
     "exception": false,
     "start_time": "2023-09-03T15:24:59.124691",
     "status": "completed"
    },
    "tags": []
   },
   "outputs": [
    {
     "name": "stdout",
     "output_type": "stream",
     "text": [
      "3147\n",
      "done!\n"
     ]
    }
   ],
   "source": [
    "Y_data = []\n",
    "print(len(train_labels))\n",
    "for index in range(len(train_labels)):\n",
    "    #Grabs the multi-class labels in a single list\n",
    "    tmp = []\n",
    "    for label in train_labels.loc[index]:\n",
    "        tmp.append(label+0.0)\n",
    "    #We multiply the single multi-class label by the amount of occurances of the patient_id\n",
    "    tmp.pop(0)\n",
    "    try:\n",
    "        for i in range(patient_count[train_labels[\"patient_id\"][index]]):\n",
    "            Y_data.append(tmp)\n",
    "    except:\n",
    "        pass\n",
    "\n",
    "# print(train_labels.loc[0][1])\n",
    "print(\"done!\")"
   ]
  },
  {
   "cell_type": "code",
   "execution_count": 22,
   "id": "a561ee76",
   "metadata": {
    "execution": {
     "iopub.execute_input": "2023-09-03T15:24:59.413756Z",
     "iopub.status.busy": "2023-09-03T15:24:59.412035Z",
     "iopub.status.idle": "2023-09-03T15:24:59.420591Z",
     "shell.execute_reply": "2023-09-03T15:24:59.419698Z"
    },
    "papermill": {
     "duration": 0.03123,
     "end_time": "2023-09-03T15:24:59.422708",
     "exception": false,
     "start_time": "2023-09-03T15:24:59.391478",
     "status": "completed"
    },
    "tags": []
   },
   "outputs": [
    {
     "name": "stdout",
     "output_type": "stream",
     "text": [
      "patient_id\n",
      "33       36\n",
      "43       53\n",
      "263      12\n",
      "820      71\n",
      "1675      1\n",
      "         ..\n",
      "64091     9\n",
      "64194    74\n",
      "64256    22\n",
      "64501    19\n",
      "65456    16\n",
      "Name: patient_id, Length: 246, dtype: int64\n"
     ]
    }
   ],
   "source": [
    "print(patient_count)"
   ]
  },
  {
   "cell_type": "code",
   "execution_count": 23,
   "id": "3cb6838b",
   "metadata": {
    "execution": {
     "iopub.execute_input": "2023-09-03T15:24:59.463083Z",
     "iopub.status.busy": "2023-09-03T15:24:59.462133Z",
     "iopub.status.idle": "2023-09-03T15:25:04.422660Z",
     "shell.execute_reply": "2023-09-03T15:25:04.421171Z"
    },
    "papermill": {
     "duration": 4.983076,
     "end_time": "2023-09-03T15:25:04.424787",
     "exception": false,
     "start_time": "2023-09-03T15:24:59.441711",
     "status": "completed"
    },
    "tags": []
   },
   "outputs": [
    {
     "name": "stdout",
     "output_type": "stream",
     "text": [
      "(12029, 13)\n",
      "(12029, 75, 75)\n"
     ]
    }
   ],
   "source": [
    "Y_data = np.array(Y_data)\n",
    "print(Y_data.shape)\n",
    "if img_size == 50:\n",
    "    X_data = np.load(\"/kaggle/input/atd-processed-x-data/X_data.npy\")\n",
    "elif img_size == 75:\n",
    "    X_data = np.load(\"/kaggle/input/x-data75by75/X_data_70by70.npy\")\n",
    "print(X_data.shape)"
   ]
  },
  {
   "cell_type": "code",
   "execution_count": 24,
   "id": "5fcbd43f",
   "metadata": {
    "execution": {
     "iopub.execute_input": "2023-09-03T15:25:04.465173Z",
     "iopub.status.busy": "2023-09-03T15:25:04.464872Z",
     "iopub.status.idle": "2023-09-03T15:25:04.470027Z",
     "shell.execute_reply": "2023-09-03T15:25:04.469156Z"
    },
    "papermill": {
     "duration": 0.027728,
     "end_time": "2023-09-03T15:25:04.472265",
     "exception": false,
     "start_time": "2023-09-03T15:25:04.444537",
     "status": "completed"
    },
    "tags": []
   },
   "outputs": [
    {
     "name": "stdout",
     "output_type": "stream",
     "text": [
      "13\n",
      "/kaggle/input/rsna-2023-abdominal-trauma-detection/train_images/33/55570/94.dcm\n"
     ]
    }
   ],
   "source": [
    "print(len(Y_data[1]))\n",
    "print(image_labels.loc[1,\"img_path\"])"
   ]
  },
  {
   "cell_type": "code",
   "execution_count": 25,
   "id": "db355364",
   "metadata": {
    "execution": {
     "iopub.execute_input": "2023-09-03T15:25:04.513148Z",
     "iopub.status.busy": "2023-09-03T15:25:04.512579Z",
     "iopub.status.idle": "2023-09-03T15:25:09.852456Z",
     "shell.execute_reply": "2023-09-03T15:25:09.850816Z"
    },
    "papermill": {
     "duration": 5.362954,
     "end_time": "2023-09-03T15:25:09.854780",
     "exception": false,
     "start_time": "2023-09-03T15:25:04.491826",
     "status": "completed"
    },
    "tags": []
   },
   "outputs": [
    {
     "name": "stderr",
     "output_type": "stream",
     "text": [
      "/opt/conda/lib/python3.10/site-packages/scipy/__init__.py:146: UserWarning: A NumPy version >=1.16.5 and <1.23.0 is required for this version of SciPy (detected version 1.23.5\n",
      "  warnings.warn(f\"A NumPy version >={np_minversion} and <{np_maxversion}\"\n"
     ]
    },
    {
     "name": "stdout",
     "output_type": "stream",
     "text": [
      "(10806, 75, 75, 1) (1203, 75, 75, 1)\n",
      "(10806, 13) (1203, 13)\n"
     ]
    }
   ],
   "source": [
    "from sklearn.model_selection import train_test_split\n",
    "\n",
    "X_train, X_val, Y_train, Y_val = train_test_split(X_data,Y_data,test_size=0.1)\n",
    "\n",
    "test_size = 20\n",
    "\n",
    "X_train = X_train.reshape(-1,img_size,img_size,1)\n",
    "X_val = X_val.reshape(-1,img_size,img_size,1)\n",
    "\n",
    "X_test = []\n",
    "Y_test = []\n",
    "for index in range(test_size):\n",
    "    rand_sample = np.random.randint(low=0,high=len(X_train))\n",
    "    X_test.append(X_train[rand_sample])\n",
    "    X_train = np.delete(X_train, rand_sample, 0)\n",
    "    Y_test.append(Y_train[rand_sample])\n",
    "    Y_train = np.delete(Y_train, rand_sample, 0)\n",
    "X_test = np.array(X_test)\n",
    "Y_test = np.array(Y_test)\n",
    "print(X_train.shape,X_val.shape)\n",
    "print(Y_train.shape,Y_val.shape)"
   ]
  },
  {
   "cell_type": "markdown",
   "id": "c20e12f4",
   "metadata": {
    "papermill": {
     "duration": 0.020021,
     "end_time": "2023-09-03T15:25:09.895283",
     "exception": false,
     "start_time": "2023-09-03T15:25:09.875262",
     "status": "completed"
    },
    "tags": []
   },
   "source": [
    "# Convoluational Neural Network"
   ]
  },
  {
   "cell_type": "markdown",
   "id": "e52955f2",
   "metadata": {
    "papermill": {
     "duration": 0.019338,
     "end_time": "2023-09-03T15:25:09.934495",
     "exception": false,
     "start_time": "2023-09-03T15:25:09.915157",
     "status": "completed"
    },
    "tags": []
   },
   "source": [
    "## TFLearn"
   ]
  },
  {
   "cell_type": "code",
   "execution_count": 26,
   "id": "a987c744",
   "metadata": {
    "execution": {
     "iopub.execute_input": "2023-09-03T15:25:09.975141Z",
     "iopub.status.busy": "2023-09-03T15:25:09.974772Z",
     "iopub.status.idle": "2023-09-03T15:25:09.980213Z",
     "shell.execute_reply": "2023-09-03T15:25:09.979276Z"
    },
    "papermill": {
     "duration": 0.028455,
     "end_time": "2023-09-03T15:25:09.982315",
     "exception": false,
     "start_time": "2023-09-03T15:25:09.953860",
     "status": "completed"
    },
    "tags": []
   },
   "outputs": [],
   "source": [
    "# # # 64, 64, 32 = 0.7-0.76\n",
    "# !pip install tflearn\n",
    "# import tflearn\n",
    "# from tflearn.layers.conv import conv_2d, max_pool_2d\n",
    "# from tflearn.layers.core import input_data, dropout, fully_connected\n",
    "# from tflearn.layers.estimator import regression\n",
    "# from tflearn.objectives import binary_crossentropy\n",
    "\n",
    "# convnet = input_data(shape=[None,img_size,img_size,1], name='input')\n",
    "\n",
    "# convnet = conv_2d(convnet, 32, 2, activation='relu')\n",
    "# convnet = max_pool_2d(convnet, 2)\n",
    "\n",
    "# convnet = conv_2d(convnet, 64, 2, activation='relu')\n",
    "# convnet = max_pool_2d(convnet, 2)\n",
    "\n",
    "# convnet = conv_2d(convnet, 64, 2, activation='relu')\n",
    "# convnet = max_pool_2d(convnet, 2)\n",
    "\n",
    "# convnet = fully_connected(convnet, 2048, activation='relu')\n",
    "# convnet = dropout(convnet, 0.3)\n",
    "\n",
    "# convnet = fully_connected(convnet, 13, activation='sigmoid')\n",
    "# model = regression(convnet, optimizer='adam', learning_rate=1e-3, loss=binary_crossentropy, name='targets')\n",
    "\n",
    "# model = tflearn.DNN(model)\n",
    "\n",
    "# model.fit({'input': X_train}, {'targets': Y_train},\n",
    "#           n_epoch=20,\n",
    "#           shuffle=True,\n",
    "#           validation_set=({'input': X_test}, {'targets': Y_test}),\n",
    "#           show_metric=True,\n",
    "#           snapshot_step=500,\n",
    "#           run_id=\"ATD-CNN-Model\")"
   ]
  },
  {
   "cell_type": "markdown",
   "id": "61935f86",
   "metadata": {
    "papermill": {
     "duration": 0.019235,
     "end_time": "2023-09-03T15:25:10.021329",
     "exception": false,
     "start_time": "2023-09-03T15:25:10.002094",
     "status": "completed"
    },
    "tags": []
   },
   "source": [
    "## KERAS"
   ]
  },
  {
   "cell_type": "code",
   "execution_count": 27,
   "id": "e62ce7be",
   "metadata": {
    "execution": {
     "iopub.execute_input": "2023-09-03T15:25:10.062066Z",
     "iopub.status.busy": "2023-09-03T15:25:10.061697Z",
     "iopub.status.idle": "2023-09-03T15:26:36.359546Z",
     "shell.execute_reply": "2023-09-03T15:26:36.358593Z"
    },
    "papermill": {
     "duration": 86.32077,
     "end_time": "2023-09-03T15:26:36.361723",
     "exception": false,
     "start_time": "2023-09-03T15:25:10.040953",
     "status": "completed"
    },
    "scrolled": true,
    "tags": []
   },
   "outputs": [
    {
     "name": "stderr",
     "output_type": "stream",
     "text": [
      "/opt/conda/lib/python3.10/site-packages/tensorflow_io/python/ops/__init__.py:98: UserWarning: unable to load libtensorflow_io_plugins.so: unable to open file: libtensorflow_io_plugins.so, from paths: ['/opt/conda/lib/python3.10/site-packages/tensorflow_io/python/ops/libtensorflow_io_plugins.so']\n",
      "caused by: ['/opt/conda/lib/python3.10/site-packages/tensorflow_io/python/ops/libtensorflow_io_plugins.so: undefined symbol: _ZN3tsl6StatusC1EN10tensorflow5error4CodeESt17basic_string_viewIcSt11char_traitsIcEENS_14SourceLocationE']\n",
      "  warnings.warn(f\"unable to load libtensorflow_io_plugins.so: {e}\")\n",
      "/opt/conda/lib/python3.10/site-packages/tensorflow_io/python/ops/__init__.py:104: UserWarning: file system plugins are not loaded: unable to open file: libtensorflow_io.so, from paths: ['/opt/conda/lib/python3.10/site-packages/tensorflow_io/python/ops/libtensorflow_io.so']\n",
      "caused by: ['/opt/conda/lib/python3.10/site-packages/tensorflow_io/python/ops/libtensorflow_io.so: undefined symbol: _ZTVN10tensorflow13GcsFileSystemE']\n",
      "  warnings.warn(f\"file system plugins are not loaded: {e}\")\n"
     ]
    },
    {
     "name": "stdout",
     "output_type": "stream",
     "text": [
      "Model: \"sequential\"\n",
      "_________________________________________________________________\n",
      " Layer (type)                Output Shape              Param #   \n",
      "=================================================================\n",
      " conv2d (Conv2D)             (None, 75, 75, 16)        416       \n",
      "                                                                 \n",
      " max_pooling2d (MaxPooling2D  (None, 37, 37, 16)       0         \n",
      " )                                                               \n",
      "                                                                 \n",
      " batch_normalization (BatchN  (None, 37, 37, 16)       64        \n",
      " ormalization)                                                   \n",
      "                                                                 \n",
      " dropout (Dropout)           (None, 37, 37, 16)        0         \n",
      "                                                                 \n",
      " conv2d_1 (Conv2D)           (None, 37, 37, 32)        12832     \n",
      "                                                                 \n",
      " max_pooling2d_1 (MaxPooling  (None, 18, 18, 32)       0         \n",
      " 2D)                                                             \n",
      "                                                                 \n",
      " batch_normalization_1 (Batc  (None, 18, 18, 32)       128       \n",
      " hNormalization)                                                 \n",
      "                                                                 \n",
      " dropout_1 (Dropout)         (None, 18, 18, 32)        0         \n",
      "                                                                 \n",
      " conv2d_2 (Conv2D)           (None, 18, 18, 64)        51264     \n",
      "                                                                 \n",
      " max_pooling2d_2 (MaxPooling  (None, 9, 9, 64)         0         \n",
      " 2D)                                                             \n",
      "                                                                 \n",
      " batch_normalization_2 (Batc  (None, 9, 9, 64)         256       \n",
      " hNormalization)                                                 \n",
      "                                                                 \n",
      " dropout_2 (Dropout)         (None, 9, 9, 64)          0         \n",
      "                                                                 \n",
      " conv2d_3 (Conv2D)           (None, 9, 9, 64)          102464    \n",
      "                                                                 \n",
      " max_pooling2d_3 (MaxPooling  (None, 4, 4, 64)         0         \n",
      " 2D)                                                             \n",
      "                                                                 \n",
      " batch_normalization_3 (Batc  (None, 4, 4, 64)         256       \n",
      " hNormalization)                                                 \n",
      "                                                                 \n",
      " dropout_3 (Dropout)         (None, 4, 4, 64)          0         \n",
      "                                                                 \n",
      " flatten (Flatten)           (None, 1024)              0         \n",
      "                                                                 \n",
      " dense (Dense)               (None, 128)               131200    \n",
      "                                                                 \n",
      " dropout_4 (Dropout)         (None, 128)               0         \n",
      "                                                                 \n",
      " dense_1 (Dense)             (None, 64)                8256      \n",
      "                                                                 \n",
      " dropout_5 (Dropout)         (None, 64)                0         \n",
      "                                                                 \n",
      " dense_2 (Dense)             (None, 64)                4160      \n",
      "                                                                 \n",
      " dropout_6 (Dropout)         (None, 64)                0         \n",
      "                                                                 \n",
      " dense_3 (Dense)             (None, 13)                845       \n",
      "                                                                 \n",
      "=================================================================\n",
      "Total params: 312,141\n",
      "Trainable params: 311,789\n",
      "Non-trainable params: 352\n",
      "_________________________________________________________________\n",
      "Epoch 1/25\n"
     ]
    },
    {
     "name": "stderr",
     "output_type": "stream",
     "text": [
      "2023-09-03 15:25:22.809085: E tensorflow/core/grappler/optimizers/meta_optimizer.cc:954] layout failed: INVALID_ARGUMENT: Size of values 0 does not match size of permutation 4 @ fanin shape insequential/dropout/dropout/SelectV2-2-TransposeNHWCToNCHW-LayoutOptimizer\n"
     ]
    },
    {
     "name": "stdout",
     "output_type": "stream",
     "text": [
      "338/338 [==============================] - 11s 10ms/step - loss: 0.5300 - binary_accuracy: 0.7524 - val_loss: 0.4380 - val_binary_accuracy: 0.8045\n",
      "Epoch 2/25\n",
      "338/338 [==============================] - 3s 9ms/step - loss: 0.4435 - binary_accuracy: 0.7982 - val_loss: 0.4041 - val_binary_accuracy: 0.8149\n",
      "Epoch 3/25\n",
      "338/338 [==============================] - 3s 8ms/step - loss: 0.4103 - binary_accuracy: 0.8120 - val_loss: 0.3680 - val_binary_accuracy: 0.8316\n",
      "Epoch 4/25\n",
      "338/338 [==============================] - 3s 8ms/step - loss: 0.3805 - binary_accuracy: 0.8286 - val_loss: 0.3263 - val_binary_accuracy: 0.8504\n",
      "Epoch 5/25\n",
      "338/338 [==============================] - 3s 8ms/step - loss: 0.3514 - binary_accuracy: 0.8446 - val_loss: 0.2963 - val_binary_accuracy: 0.8640\n",
      "Epoch 6/25\n",
      "338/338 [==============================] - 3s 8ms/step - loss: 0.3202 - binary_accuracy: 0.8588 - val_loss: 0.2502 - val_binary_accuracy: 0.8861\n",
      "Epoch 7/25\n",
      "338/338 [==============================] - 3s 8ms/step - loss: 0.2930 - binary_accuracy: 0.8724 - val_loss: 0.2357 - val_binary_accuracy: 0.8944\n",
      "Epoch 8/25\n",
      "338/338 [==============================] - 3s 8ms/step - loss: 0.2712 - binary_accuracy: 0.8804 - val_loss: 0.2175 - val_binary_accuracy: 0.9072\n",
      "Epoch 9/25\n",
      "338/338 [==============================] - 3s 8ms/step - loss: 0.2486 - binary_accuracy: 0.8911 - val_loss: 0.1899 - val_binary_accuracy: 0.9195\n",
      "Epoch 10/25\n",
      "338/338 [==============================] - 3s 8ms/step - loss: 0.2374 - binary_accuracy: 0.8971 - val_loss: 0.1769 - val_binary_accuracy: 0.9204\n",
      "Epoch 11/25\n",
      "338/338 [==============================] - 3s 8ms/step - loss: 0.2198 - binary_accuracy: 0.9038 - val_loss: 0.1747 - val_binary_accuracy: 0.9242\n",
      "Epoch 12/25\n",
      "338/338 [==============================] - 3s 8ms/step - loss: 0.2104 - binary_accuracy: 0.9072 - val_loss: 0.1850 - val_binary_accuracy: 0.9201\n",
      "Epoch 13/25\n",
      "338/338 [==============================] - 3s 8ms/step - loss: 0.2033 - binary_accuracy: 0.9117 - val_loss: 0.1551 - val_binary_accuracy: 0.9341\n",
      "Epoch 14/25\n",
      "338/338 [==============================] - 3s 9ms/step - loss: 0.1899 - binary_accuracy: 0.9166 - val_loss: 0.1337 - val_binary_accuracy: 0.9384\n",
      "Epoch 15/25\n",
      "338/338 [==============================] - 3s 8ms/step - loss: 0.1830 - binary_accuracy: 0.9203 - val_loss: 0.1375 - val_binary_accuracy: 0.9371\n",
      "Epoch 16/25\n",
      "338/338 [==============================] - 3s 8ms/step - loss: 0.1751 - binary_accuracy: 0.9241 - val_loss: 0.1341 - val_binary_accuracy: 0.9403\n",
      "Epoch 17/25\n",
      "338/338 [==============================] - 3s 8ms/step - loss: 0.1694 - binary_accuracy: 0.9264 - val_loss: 0.1271 - val_binary_accuracy: 0.9389\n",
      "Epoch 18/25\n",
      "338/338 [==============================] - 3s 7ms/step - loss: 0.1634 - binary_accuracy: 0.9287 - val_loss: 0.1220 - val_binary_accuracy: 0.9529\n",
      "Epoch 19/25\n",
      "338/338 [==============================] - 3s 7ms/step - loss: 0.1595 - binary_accuracy: 0.9314 - val_loss: 0.1202 - val_binary_accuracy: 0.9473\n",
      "Epoch 20/25\n",
      "338/338 [==============================] - 3s 8ms/step - loss: 0.1552 - binary_accuracy: 0.9329 - val_loss: 0.1159 - val_binary_accuracy: 0.9572\n",
      "Epoch 21/25\n",
      "338/338 [==============================] - 3s 8ms/step - loss: 0.1562 - binary_accuracy: 0.9341 - val_loss: 0.1290 - val_binary_accuracy: 0.9485\n",
      "Epoch 22/25\n",
      "338/338 [==============================] - 3s 8ms/step - loss: 0.1467 - binary_accuracy: 0.9370 - val_loss: 0.1127 - val_binary_accuracy: 0.9570\n",
      "Epoch 23/25\n",
      "338/338 [==============================] - 3s 8ms/step - loss: 0.1469 - binary_accuracy: 0.9371 - val_loss: 0.1083 - val_binary_accuracy: 0.9600\n",
      "Epoch 24/25\n",
      "338/338 [==============================] - 3s 8ms/step - loss: 0.1357 - binary_accuracy: 0.9425 - val_loss: 0.1173 - val_binary_accuracy: 0.9561\n",
      "Epoch 25/25\n",
      "338/338 [==============================] - 3s 8ms/step - loss: 0.1339 - binary_accuracy: 0.9433 - val_loss: 0.0877 - val_binary_accuracy: 0.9667\n"
     ]
    },
    {
     "data": {
      "image/png": "[encoded data removed]",
      "text/plain": [
       "<Figure size 640x480 with 1 Axes>"
      ]
     },
     "metadata": {},
     "output_type": "display_data"
    },
    {
     "data": {
      "image/png": "[encoded data removed]",
      "text/plain": [
       "<Figure size 640x480 with 1 Axes>"
      ]
     },
     "metadata": {},
     "output_type": "display_data"
    }
   ],
   "source": [
    "import keras\n",
    "from keras.models import Sequential\n",
    "from keras.layers import Dense, Dropout, Flatten\n",
    "from keras.layers import Conv2D, MaxPooling2D\n",
    "from keras.preprocessing import image\n",
    "from keras.optimizers import Adam\n",
    "from keras.metrics import binary_accuracy\n",
    "from keras.losses import BinaryCrossentropy\n",
    "BinaryCrossentropy = BinaryCrossentropy()\n",
    "from keras.layers import BatchNormalization\n",
    "k_size = 5\n",
    "opt = Adam(learning_rate=1e-3)\n",
    "model = Sequential()\n",
    "\n",
    "model.add(Conv2D(filters=16, kernel_size=(k_size, k_size), activation=\"relu\", input_shape=(img_size,img_size,1), padding='same'))\n",
    "model.add(MaxPooling2D(pool_size=(2, 2)))\n",
    "model.add(BatchNormalization())\n",
    "model.add(Dropout(0.2))\n",
    "\n",
    "model.add(Conv2D(filters=32, kernel_size=(k_size, k_size), activation=\"relu\", padding='same'))\n",
    "model.add(MaxPooling2D(pool_size=(2, 2)))\n",
    "model.add(BatchNormalization())\n",
    "model.add(Dropout(0.2))\n",
    "\n",
    "model.add(Conv2D(filters=64, kernel_size=(k_size, k_size), activation=\"relu\", padding='same'))\n",
    "model.add(MaxPooling2D(pool_size=(2, 2)))\n",
    "model.add(BatchNormalization())\n",
    "model.add(Dropout(0.2))\n",
    "\n",
    "model.add(Conv2D(filters=64, kernel_size=(k_size, k_size), activation=\"relu\", padding='same'))\n",
    "model.add(MaxPooling2D(pool_size=(2, 2)))\n",
    "model.add(BatchNormalization())\n",
    "model.add(Dropout(0.2))\n",
    "\n",
    "model.add(Flatten())\n",
    "model.add(Dense(128, activation='relu'))\n",
    "model.add(Dropout(0.5))\n",
    "model.add(Dense(64, activation='relu'))\n",
    "model.add(Dropout(0.5))\n",
    "model.add(Dense(64, activation='relu'))\n",
    "model.add(Dropout(0.5))\n",
    "model.add(Dense(13, activation='sigmoid'))\n",
    "\n",
    "\n",
    "#Do not use softmax for multilabel classification\n",
    "#Softmax is useful for mutually exclusive classes, either cat or dog but not both.\n",
    "#Also, softmax outputs all add to 1. So good for multi class problems where each\n",
    "#class is given a probability and all add to 1. Highest one wins. \n",
    "\n",
    "#Sigmoid outputs probability. Can be used for non-mutually exclusive problems.\n",
    "#like multi label, in this example.\n",
    "#But, also good for binary mutually exclusive (cat or not cat). \n",
    "\n",
    "model.summary()\n",
    "\n",
    "#Binary cross entropy of each label. So no really a binary classification problem but\n",
    "#Calculating binary cross entropy for each label. \n",
    "model.compile(optimizer=opt, loss=BinaryCrossentropy, metrics=['binary_accuracy'])\n",
    "\n",
    "history = model.fit(X_train, Y_train, epochs=25, validation_data=(X_val, Y_val))\n",
    "\n",
    "loss = history.history['loss']\n",
    "val_loss = history.history['val_loss']\n",
    "epochs = range(1, len(loss) + 1)\n",
    "plt.plot(epochs, loss, 'y', label='Training loss')\n",
    "plt.plot(epochs, val_loss, 'r', label='Validation loss')\n",
    "plt.title('Training and validation Loss')\n",
    "plt.xlabel('Epochs')\n",
    "plt.ylabel('Loss')\n",
    "plt.legend()\n",
    "plt.show()\n",
    "\n",
    "acc = history.history['binary_accuracy']\n",
    "val_acc = history.history['val_binary_accuracy']\n",
    "plt.plot(epochs, acc, 'g', label='Training Accuracy')\n",
    "plt.plot(epochs, val_acc, 'b', label='Validation Accuracy')\n",
    "plt.title('Training and validation Accuracy')\n",
    "plt.xlabel('Epochs')\n",
    "plt.ylabel('Acc')\n",
    "plt.legend()\n",
    "plt.show()"
   ]
  },
  {
   "cell_type": "markdown",
   "id": "c21d7c8c",
   "metadata": {
    "papermill": {
     "duration": 0.174541,
     "end_time": "2023-09-03T15:26:36.656230",
     "exception": false,
     "start_time": "2023-09-03T15:26:36.481689",
     "status": "completed"
    },
    "tags": []
   },
   "source": [
    "## Saving/Loading Model"
   ]
  },
  {
   "cell_type": "code",
   "execution_count": 28,
   "id": "df403e44",
   "metadata": {
    "execution": {
     "iopub.execute_input": "2023-09-03T15:26:37.015178Z",
     "iopub.status.busy": "2023-09-03T15:26:37.014738Z",
     "iopub.status.idle": "2023-09-03T15:26:37.019123Z",
     "shell.execute_reply": "2023-09-03T15:26:37.018310Z"
    },
    "papermill": {
     "duration": 0.182219,
     "end_time": "2023-09-03T15:26:37.023301",
     "exception": false,
     "start_time": "2023-09-03T15:26:36.841082",
     "status": "completed"
    },
    "tags": []
   },
   "outputs": [],
   "source": [
    "# model.save(\"/kaggle/working/ATD_model\")\n",
    "# model.load(\"/kaggle/input/nn-model/ATD_model\")"
   ]
  },
  {
   "cell_type": "code",
   "execution_count": 29,
   "id": "045fd689",
   "metadata": {
    "execution": {
     "iopub.execute_input": "2023-09-03T15:26:37.381053Z",
     "iopub.status.busy": "2023-09-03T15:26:37.380601Z",
     "iopub.status.idle": "2023-09-03T15:26:37.386171Z",
     "shell.execute_reply": "2023-09-03T15:26:37.385345Z"
    },
    "papermill": {
     "duration": 0.195269,
     "end_time": "2023-09-03T15:26:37.391761",
     "exception": false,
     "start_time": "2023-09-03T15:26:37.196492",
     "status": "completed"
    },
    "tags": []
   },
   "outputs": [
    {
     "name": "stdout",
     "output_type": "stream",
     "text": [
      "(20, 75, 75, 1)\n",
      "(75, 75, 1)\n"
     ]
    }
   ],
   "source": [
    "print(X_test.shape)\n",
    "print(X_val[0].shape)"
   ]
  },
  {
   "cell_type": "markdown",
   "id": "fc1de88c",
   "metadata": {
    "papermill": {
     "duration": 0.176247,
     "end_time": "2023-09-03T15:26:37.742606",
     "exception": false,
     "start_time": "2023-09-03T15:26:37.566359",
     "status": "completed"
    },
    "tags": []
   },
   "source": [
    "# Experiments and Test Cases"
   ]
  },
  {
   "cell_type": "code",
   "execution_count": 30,
   "id": "5762c42f",
   "metadata": {
    "execution": {
     "iopub.execute_input": "2023-09-03T15:26:38.096717Z",
     "iopub.status.busy": "2023-09-03T15:26:38.096274Z",
     "iopub.status.idle": "2023-09-03T15:26:38.933794Z",
     "shell.execute_reply": "2023-09-03T15:26:38.932713Z"
    },
    "papermill": {
     "duration": 1.018839,
     "end_time": "2023-09-03T15:26:38.936083",
     "exception": false,
     "start_time": "2023-09-03T15:26:37.917244",
     "status": "completed"
    },
    "tags": []
   },
   "outputs": [
    {
     "name": "stdout",
     "output_type": "stream",
     "text": [
      "1/1 [==============================] - 0s 233ms/step\n",
      "0\n",
      "Pred [0.055 0.945 0.701 0.299 0.88  0.023 0.074 0.423 0.573 0.001 0.815 0.045\n",
      " 0.171]\n",
      "Label [0. 1. 1. 0. 0. 0. 1. 1. 0. 0. 1. 0. 0.]\n",
      "bowel_healthy :  5.499999970197678 %\n",
      "bowel_injury :  94.49999928474426 %\n",
      "extravasation_healthy :  70.09999752044678 %\n",
      "extravasation_injury :  29.899999499320984 %\n",
      "kidney_healthy :  87.99999952316284 %\n",
      "kidney_low :  2.3000000044703484 %\n",
      "kidney_high :  7.400000095367432 %\n",
      "liver_healthy :  42.30000078678131 %\n",
      "liver_low :  57.30000138282776 %\n",
      "liver_high :  0.10000000474974513 %\n",
      "spleen_healthy :  81.49999976158142 %\n",
      "spleen_low :  4.500000178813934 %\n",
      "spleen_high :  17.100000381469727 %\n",
      "1/1 [==============================] - 0s 33ms/step\n",
      "1\n",
      "Pred [0.    1.    0.985 0.014 0.921 0.069 0.    0.159 0.837 0.    0.042 0.66\n",
      " 0.188]\n",
      "Label [0. 1. 1. 0. 1. 0. 0. 0. 1. 0. 0. 1. 0.]\n",
      "bowel_healthy :  0.0 %\n",
      "bowel_injury :  100.0 %\n",
      "extravasation_healthy :  98.50000143051147 %\n",
      "extravasation_injury :  1.4000000432133675 %\n",
      "kidney_healthy :  92.10000038146973 %\n",
      "kidney_low :  6.89999982714653 %\n",
      "kidney_high :  0.0 %\n",
      "liver_healthy :  15.899999439716339 %\n",
      "liver_low :  83.70000123977661 %\n",
      "liver_high :  0.0 %\n",
      "spleen_healthy :  4.1999999433755875 %\n",
      "spleen_low :  66.00000262260437 %\n",
      "spleen_high :  18.799999356269836 %\n",
      "1/1 [==============================] - 0s 37ms/step\n",
      "2\n",
      "Pred [0.972 0.027 0.001 0.999 0.67  0.16  0.168 0.586 0.317 0.125 0.28  0.021\n",
      " 0.733]\n",
      "Label [1. 0. 0. 1. 1. 0. 0. 0. 1. 0. 0. 0. 1.]\n",
      "bowel_healthy :  97.2000002861023 %\n",
      "bowel_injury :  2.7000000700354576 %\n",
      "extravasation_healthy :  0.10000000474974513 %\n",
      "extravasation_injury :  99.90000128746033 %\n",
      "kidney_healthy :  67.00000166893005 %\n",
      "kidney_low :  15.999999642372131 %\n",
      "kidney_high :  16.79999977350235 %\n",
      "liver_healthy :  58.60000252723694 %\n",
      "liver_low :  31.700000166893005 %\n",
      "liver_high :  12.5 %\n",
      "spleen_healthy :  28.00000011920929 %\n",
      "spleen_low :  2.0999999716877937 %\n",
      "spleen_high :  73.29999804496765 %\n",
      "1/1 [==============================] - 0s 41ms/step\n",
      "3\n",
      "Pred [0.98  0.02  0.    1.    0.884 0.046 0.039 0.961 0.051 0.005 0.066 0.013\n",
      " 0.942]\n",
      "Label [1. 0. 0. 1. 1. 0. 0. 1. 0. 0. 0. 0. 1.]\n",
      "bowel_healthy :  98.00000190734863 %\n",
      "bowel_injury :  1.9999999552965164 %\n",
      "extravasation_healthy :  0.0 %\n",
      "extravasation_injury :  100.0 %\n",
      "kidney_healthy :  88.40000033378601 %\n",
      "kidney_low :  4.600000008940697 %\n",
      "kidney_high :  3.9000000804662704 %\n",
      "liver_healthy :  96.10000252723694 %\n",
      "liver_low :  5.099999904632568 %\n",
      "liver_high :  0.4999999888241291 %\n",
      "spleen_healthy :  6.599999964237213 %\n",
      "spleen_low :  1.3000000268220901 %\n",
      "spleen_high :  94.19999718666077 %\n",
      "1/1 [==============================] - 0s 37ms/step\n",
      "4\n",
      "Pred [0.966 0.035 0.002 0.998 0.917 0.017 0.064 0.976 0.028 0.003 0.159 0.117\n",
      " 0.754]\n",
      "Label [1. 0. 0. 1. 1. 0. 0. 1. 0. 0. 0. 0. 1.]\n",
      "bowel_healthy :  96.60000205039978 %\n",
      "bowel_injury :  3.500000014901161 %\n",
      "extravasation_healthy :  0.20000000949949026 %\n",
      "extravasation_injury :  99.80000257492065 %\n",
      "kidney_healthy :  91.69999957084656 %\n",
      "kidney_low :  1.7000000923871994 %\n",
      "kidney_high :  6.400000303983688 %\n",
      "liver_healthy :  97.60000109672546 %\n",
      "liver_low :  2.800000086426735 %\n",
      "liver_high :  0.3000000026077032 %\n",
      "spleen_healthy :  15.899999439716339 %\n",
      "spleen_low :  11.699999868869781 %\n",
      "spleen_high :  75.40000081062317 %\n"
     ]
    }
   ],
   "source": [
    "num_of_test_cases = 5\n",
    "diagnosis_labels = train_labels.loc[(train_labels[\"patient_id\"]==0)].axes[1]\n",
    "diagnosis_labels = diagnosis_labels.drop([\"patient_id\"])\n",
    "\n",
    "for i in range(num_of_test_cases):\n",
    "    test = []\n",
    "    test.append(X_test[i].tolist())\n",
    "    pred = model.predict(test)\n",
    "\n",
    "    print(i)\n",
    "    pred = pred.round(3)\n",
    "    print(\"Pred\",pred[0])\n",
    "    label = Y_test[i]\n",
    "    print(\"Label\",label)\n",
    "    actual_diag = []\n",
    "    for index in range(len(diagnosis_labels.values)):\n",
    "        print(diagnosis_labels.values[index],\": \", (pred[0][index]*100),\"%\")\n",
    "        if tmp[index] == (1+0.0):\n",
    "            actual_diag.append(diagnosis_labels.values[index])\n",
    "\n",
    "\n"
   ]
  },
  {
   "cell_type": "code",
   "execution_count": 31,
   "id": "dda68a13",
   "metadata": {
    "execution": {
     "iopub.execute_input": "2023-09-03T15:26:39.253889Z",
     "iopub.status.busy": "2023-09-03T15:26:39.253495Z",
     "iopub.status.idle": "2023-09-03T15:26:39.260694Z",
     "shell.execute_reply": "2023-09-03T15:26:39.259703Z"
    },
    "papermill": {
     "duration": 0.13964,
     "end_time": "2023-09-03T15:26:39.262984",
     "exception": false,
     "start_time": "2023-09-03T15:26:39.123344",
     "status": "completed"
    },
    "tags": []
   },
   "outputs": [],
   "source": [
    "# num_of_test_cases = 5\n",
    "# test_cases = {}\n",
    "# for n in range(num_of_test_cases):\n",
    "#     rand_case = np.random.randint(low=0, high=len(X_val))\n",
    "#     test_cases[n] = image_labels.loc[rand_case,\"img_path\"]\n",
    "# diagnosis_labels = train_labels.loc[(train_labels[\"patient_id\"]==0)].axes[1]\n",
    "# diagnosis_labels = diagnosis_labels.drop([\"patient_id\"])\n",
    "\n",
    "\n",
    "# # f, axarr = plt.subplots(nrows=num_of_test_cases)\n",
    "\n",
    "# # f.set_figheight(num_of_test_cases*8)\n",
    "# # f.set_figwidth(8)\n",
    "# # f.tight_layout(pad=5.0)\n",
    "    \n",
    "# for i in range(num_of_test_cases):\n",
    "    \n",
    "#     img_path = test_cases.get(i)\n",
    "\n",
    "# #     axarr[i].imshow(pyd.dcmread(img_path).pixel_array, cmap='gray')\n",
    "    \n",
    "#     raw_img = preprocess(img_path,True)\n",
    "    \n",
    "#     img = raw_img.reshape(-1,img_size,img_size,1)\n",
    "#     pred = model.predict(img)\n",
    "# #     pred = model.predict(X_test[i])\n",
    "\n",
    "#     print(i)\n",
    "# #     print(\"Pred\",pred[0])\n",
    "#     pred = pred.round(3)\n",
    "#     print(\"Pred\",pred[0])\n",
    "#     patient_id = image_labels.loc[(image_labels[\"img_path\"]==img_path),\"patient_id\"].values[0]\n",
    "#     label = train_labels.loc[(train_labels[\"patient_id\"]==patient_id)].values[0]\n",
    "# #     label = Y_test[i]\n",
    "#     tmp = []\n",
    "#     for value in label:\n",
    "#         tmp.append(value)\n",
    "#     tmp.pop(0)\n",
    "#     print(\"Label\",tmp)\n",
    "#     actual_diag = []\n",
    "#     for index in range(len(diagnosis_labels.values)):\n",
    "#         print(diagnosis_labels.values[index],\": \", pred[0][index])\n",
    "#         if tmp[index] == (1+0.0):\n",
    "#             actual_diag.append(diagnosis_labels.values[index])\n",
    "# #     predic_diag = []\n",
    "# #     for index in range(len(diagnosis_labels.values)):\n",
    "# #         if pred[0][index] > 0.5:\n",
    "# #             predic_diag.append(diagnosis_labels.values[index])\n",
    "    \n",
    "    \n",
    "# #     train_labels.loc[(train_labels[\"patient_id\"]==patient_id)]\n",
    "# #     axarr[i].set(title=\"\\nCase: {} \\nLabel:   {} \\nPrediction: {}\\n Probs: {}\\n\".format(i+1,actual_diag,predic_diag, pred))\n",
    "\n"
   ]
  },
  {
   "cell_type": "code",
   "execution_count": 32,
   "id": "f2859d40",
   "metadata": {
    "execution": {
     "iopub.execute_input": "2023-09-03T15:26:39.511097Z",
     "iopub.status.busy": "2023-09-03T15:26:39.510680Z",
     "iopub.status.idle": "2023-09-03T15:26:40.089560Z",
     "shell.execute_reply": "2023-09-03T15:26:40.088591Z"
    },
    "papermill": {
     "duration": 0.705055,
     "end_time": "2023-09-03T15:26:40.091665",
     "exception": false,
     "start_time": "2023-09-03T15:26:39.386610",
     "status": "completed"
    },
    "tags": []
   },
   "outputs": [
    {
     "name": "stdout",
     "output_type": "stream",
     "text": [
      "1/1 [==============================] - 0s 140ms/step\n",
      "Test_image: 0\n",
      "Pred: [1.0000000e+00 1.6773573e-30 0.0000000e+00 1.0000000e+00 1.0000000e+00\n",
      " 1.1268729e-10 2.7761402e-10 2.0153559e-06 8.9997187e-04 9.9999368e-01\n",
      " 1.0000000e+00 2.0392306e-18 1.4312783e-08]\n",
      "\n",
      "1/1 [==============================] - 0s 139ms/step\n",
      "Test_image: 1\n",
      "Pred: [1.0000000e+00 0.0000000e+00 0.0000000e+00 1.0000000e+00 1.0000000e+00\n",
      " 1.8124467e-36 3.6023737e-23 4.1573887e-18 6.3364589e-17 1.0000000e+00\n",
      " 1.0000000e+00 0.0000000e+00 1.1781094e-28]\n",
      "\n",
      "1/1 [==============================] - 0s 19ms/step\n",
      "Test_image: 2\n",
      "Pred: [1.0000000e+00 0.0000000e+00 0.0000000e+00 1.0000000e+00 1.0000000e+00\n",
      " 2.1011370e-20 1.8201115e-19 2.4635417e-11 2.2843610e-06 1.0000000e+00\n",
      " 1.0000000e+00 1.4011504e-34 3.8637209e-16]\n",
      "\n",
      "[array([[1.0000000e+00, 1.6773573e-30, 0.0000000e+00, 1.0000000e+00,\n",
      "        1.0000000e+00, 1.1268729e-10, 2.7761402e-10, 2.0153559e-06,\n",
      "        8.9997187e-04, 9.9999368e-01, 1.0000000e+00, 2.0392306e-18,\n",
      "        1.4312783e-08]], dtype=float32), array([[1.0000000e+00, 0.0000000e+00, 0.0000000e+00, 1.0000000e+00,\n",
      "        1.0000000e+00, 1.8124467e-36, 3.6023737e-23, 4.1573887e-18,\n",
      "        6.3364589e-17, 1.0000000e+00, 1.0000000e+00, 0.0000000e+00,\n",
      "        1.1781094e-28]], dtype=float32), array([[1.0000000e+00, 0.0000000e+00, 0.0000000e+00, 1.0000000e+00,\n",
      "        1.0000000e+00, 2.1011370e-20, 1.8201115e-19, 2.4635417e-11,\n",
      "        2.2843610e-06, 1.0000000e+00, 1.0000000e+00, 1.4011504e-34,\n",
      "        3.8637209e-16]], dtype=float32)]\n"
     ]
    }
   ],
   "source": [
    "import csv\n",
    "test_images = {}\n",
    "test_img1 = \"/kaggle/input/rsna-2023-abdominal-trauma-detection/test_images/48843/62825/30.dcm\"\n",
    "test_img2 = \"/kaggle/input/rsna-2023-abdominal-trauma-detection/test_images/50046/24574/30.dcm\"\n",
    "test_img3 = \"/kaggle/input/rsna-2023-abdominal-trauma-detection/test_images/63706/39279/30.dcm\"\n",
    "test_images[0] = test_img1\n",
    "test_images[1] = test_img2\n",
    "test_images[2] = test_img3\n",
    "output = []\n",
    "for i in range(test_images.__len__()):\n",
    "    \n",
    "    img_path = test_images[i]\n",
    "    img = preprocess(img_path,True)\n",
    "    img = img.reshape(-1, img_size, img_size, 1)\n",
    "    pred = model.predict(img)\n",
    "    output.append(pred)\n",
    "    print(\"Test_image: {}\\nPred: {}\\n\".format(i,pred[0]))\n",
    "#     for index in range(len(diagnosis_labels.values)):\n",
    "#         print(diagnosis_labels.values[index],\": \", pred[0][index])\n",
    "print(output)\n",
    "    \n",
    "    "
   ]
  },
  {
   "cell_type": "markdown",
   "id": "98d41055",
   "metadata": {
    "papermill": {
     "duration": 0.119951,
     "end_time": "2023-09-03T15:26:40.334803",
     "exception": false,
     "start_time": "2023-09-03T15:26:40.214852",
     "status": "completed"
    },
    "tags": []
   },
   "source": [
    "# SUBMISSION TESTING\n",
    "### these are the labels for the test data images"
   ]
  },
  {
   "cell_type": "code",
   "execution_count": 33,
   "id": "cc7195d7",
   "metadata": {
    "execution": {
     "iopub.execute_input": "2023-09-03T15:26:40.586200Z",
     "iopub.status.busy": "2023-09-03T15:26:40.585446Z",
     "iopub.status.idle": "2023-09-03T15:26:40.621037Z",
     "shell.execute_reply": "2023-09-03T15:26:40.620014Z"
    },
    "papermill": {
     "duration": 0.168545,
     "end_time": "2023-09-03T15:26:40.630566",
     "exception": false,
     "start_time": "2023-09-03T15:26:40.462021",
     "status": "completed"
    },
    "tags": []
   },
   "outputs": [
    {
     "data": {
      "text/html": [
       "<div>\n",
       "<style scoped>\n",
       "    .dataframe tbody tr th:only-of-type {\n",
       "        vertical-align: middle;\n",
       "    }\n",
       "\n",
       "    .dataframe tbody tr th {\n",
       "        vertical-align: top;\n",
       "    }\n",
       "\n",
       "    .dataframe thead th {\n",
       "        text-align: right;\n",
       "    }\n",
       "</style>\n",
       "<table border=\"1\" class=\"dataframe\">\n",
       "  <thead>\n",
       "    <tr style=\"text-align: right;\">\n",
       "      <th></th>\n",
       "      <th>patient_id</th>\n",
       "      <th>bowel_healthy</th>\n",
       "      <th>bowel_injury</th>\n",
       "      <th>extravasation_healthy</th>\n",
       "      <th>extravasation_injury</th>\n",
       "      <th>kidney_healthy</th>\n",
       "      <th>kidney_low</th>\n",
       "      <th>kidney_high</th>\n",
       "      <th>liver_healthy</th>\n",
       "      <th>liver_low</th>\n",
       "      <th>liver_high</th>\n",
       "      <th>spleen_healthy</th>\n",
       "      <th>spleen_low</th>\n",
       "      <th>spleen_high</th>\n",
       "    </tr>\n",
       "  </thead>\n",
       "  <tbody>\n",
       "    <tr>\n",
       "      <th>0</th>\n",
       "      <td>48843</td>\n",
       "      <td>0.5</td>\n",
       "      <td>0.5</td>\n",
       "      <td>0.5</td>\n",
       "      <td>0.5</td>\n",
       "      <td>0.333333</td>\n",
       "      <td>0.333333</td>\n",
       "      <td>0.333333</td>\n",
       "      <td>0.333333</td>\n",
       "      <td>0.333333</td>\n",
       "      <td>0.333333</td>\n",
       "      <td>0.333333</td>\n",
       "      <td>0.333333</td>\n",
       "      <td>0.333333</td>\n",
       "    </tr>\n",
       "    <tr>\n",
       "      <th>1</th>\n",
       "      <td>50046</td>\n",
       "      <td>0.5</td>\n",
       "      <td>0.5</td>\n",
       "      <td>0.5</td>\n",
       "      <td>0.5</td>\n",
       "      <td>0.333333</td>\n",
       "      <td>0.333333</td>\n",
       "      <td>0.333333</td>\n",
       "      <td>0.333333</td>\n",
       "      <td>0.333333</td>\n",
       "      <td>0.333333</td>\n",
       "      <td>0.333333</td>\n",
       "      <td>0.333333</td>\n",
       "      <td>0.333333</td>\n",
       "    </tr>\n",
       "    <tr>\n",
       "      <th>2</th>\n",
       "      <td>63706</td>\n",
       "      <td>0.5</td>\n",
       "      <td>0.5</td>\n",
       "      <td>0.5</td>\n",
       "      <td>0.5</td>\n",
       "      <td>0.333333</td>\n",
       "      <td>0.333333</td>\n",
       "      <td>0.333333</td>\n",
       "      <td>0.333333</td>\n",
       "      <td>0.333333</td>\n",
       "      <td>0.333333</td>\n",
       "      <td>0.333333</td>\n",
       "      <td>0.333333</td>\n",
       "      <td>0.333333</td>\n",
       "    </tr>\n",
       "  </tbody>\n",
       "</table>\n",
       "</div>"
      ],
      "text/plain": [
       "   patient_id  bowel_healthy  bowel_injury  extravasation_healthy  \\\n",
       "0       48843            0.5           0.5                    0.5   \n",
       "1       50046            0.5           0.5                    0.5   \n",
       "2       63706            0.5           0.5                    0.5   \n",
       "\n",
       "   extravasation_injury  kidney_healthy  kidney_low  kidney_high  \\\n",
       "0                   0.5        0.333333    0.333333     0.333333   \n",
       "1                   0.5        0.333333    0.333333     0.333333   \n",
       "2                   0.5        0.333333    0.333333     0.333333   \n",
       "\n",
       "   liver_healthy  liver_low  liver_high  spleen_healthy  spleen_low  \\\n",
       "0       0.333333   0.333333    0.333333        0.333333    0.333333   \n",
       "1       0.333333   0.333333    0.333333        0.333333    0.333333   \n",
       "2       0.333333   0.333333    0.333333        0.333333    0.333333   \n",
       "\n",
       "   spleen_high  \n",
       "0     0.333333  \n",
       "1     0.333333  \n",
       "2     0.333333  "
      ]
     },
     "execution_count": 33,
     "metadata": {},
     "output_type": "execute_result"
    }
   ],
   "source": [
    "df_sub = pd.read_csv(\"/kaggle/input/rsna-2023-abdominal-trauma-detection/sample_submission.csv\")\n",
    "df_sub"
   ]
  },
  {
   "cell_type": "code",
   "execution_count": 34,
   "id": "4186001a",
   "metadata": {
    "execution": {
     "iopub.execute_input": "2023-09-03T15:26:40.909147Z",
     "iopub.status.busy": "2023-09-03T15:26:40.908765Z",
     "iopub.status.idle": "2023-09-03T15:26:40.942393Z",
     "shell.execute_reply": "2023-09-03T15:26:40.941209Z"
    },
    "papermill": {
     "duration": 0.157087,
     "end_time": "2023-09-03T15:26:40.944956",
     "exception": false,
     "start_time": "2023-09-03T15:26:40.787869",
     "status": "completed"
    },
    "tags": []
   },
   "outputs": [
    {
     "data": {
      "text/html": [
       "<div>\n",
       "<style scoped>\n",
       "    .dataframe tbody tr th:only-of-type {\n",
       "        vertical-align: middle;\n",
       "    }\n",
       "\n",
       "    .dataframe tbody tr th {\n",
       "        vertical-align: top;\n",
       "    }\n",
       "\n",
       "    .dataframe thead th {\n",
       "        text-align: right;\n",
       "    }\n",
       "</style>\n",
       "<table border=\"1\" class=\"dataframe\">\n",
       "  <thead>\n",
       "    <tr style=\"text-align: right;\">\n",
       "      <th></th>\n",
       "      <th>patient_id</th>\n",
       "      <th>bowel_healthy</th>\n",
       "      <th>bowel_injury</th>\n",
       "      <th>extravasation_healthy</th>\n",
       "      <th>extravasation_injury</th>\n",
       "      <th>kidney_healthy</th>\n",
       "      <th>kidney_low</th>\n",
       "      <th>kidney_high</th>\n",
       "      <th>liver_healthy</th>\n",
       "      <th>liver_low</th>\n",
       "      <th>liver_high</th>\n",
       "      <th>spleen_healthy</th>\n",
       "      <th>spleen_low</th>\n",
       "      <th>spleen_high</th>\n",
       "    </tr>\n",
       "  </thead>\n",
       "  <tbody>\n",
       "    <tr>\n",
       "      <th>0</th>\n",
       "      <td>48843</td>\n",
       "      <td>1.0</td>\n",
       "      <td>1.677357e-30</td>\n",
       "      <td>0.0</td>\n",
       "      <td>1.0</td>\n",
       "      <td>1.0</td>\n",
       "      <td>1.126873e-10</td>\n",
       "      <td>2.776140e-10</td>\n",
       "      <td>2.015356e-06</td>\n",
       "      <td>8.999719e-04</td>\n",
       "      <td>0.999994</td>\n",
       "      <td>1.0</td>\n",
       "      <td>2.039231e-18</td>\n",
       "      <td>1.431278e-08</td>\n",
       "    </tr>\n",
       "    <tr>\n",
       "      <th>1</th>\n",
       "      <td>50046</td>\n",
       "      <td>1.0</td>\n",
       "      <td>0.000000e+00</td>\n",
       "      <td>0.0</td>\n",
       "      <td>1.0</td>\n",
       "      <td>1.0</td>\n",
       "      <td>1.812447e-36</td>\n",
       "      <td>3.602374e-23</td>\n",
       "      <td>4.157389e-18</td>\n",
       "      <td>6.336459e-17</td>\n",
       "      <td>1.000000</td>\n",
       "      <td>1.0</td>\n",
       "      <td>0.000000e+00</td>\n",
       "      <td>1.178109e-28</td>\n",
       "    </tr>\n",
       "    <tr>\n",
       "      <th>2</th>\n",
       "      <td>63706</td>\n",
       "      <td>1.0</td>\n",
       "      <td>0.000000e+00</td>\n",
       "      <td>0.0</td>\n",
       "      <td>1.0</td>\n",
       "      <td>1.0</td>\n",
       "      <td>2.101137e-20</td>\n",
       "      <td>1.820112e-19</td>\n",
       "      <td>2.463542e-11</td>\n",
       "      <td>2.284361e-06</td>\n",
       "      <td>1.000000</td>\n",
       "      <td>1.0</td>\n",
       "      <td>1.401150e-34</td>\n",
       "      <td>3.863721e-16</td>\n",
       "    </tr>\n",
       "  </tbody>\n",
       "</table>\n",
       "</div>"
      ],
      "text/plain": [
       "   patient_id  bowel_healthy  bowel_injury  extravasation_healthy  \\\n",
       "0       48843            1.0  1.677357e-30                    0.0   \n",
       "1       50046            1.0  0.000000e+00                    0.0   \n",
       "2       63706            1.0  0.000000e+00                    0.0   \n",
       "\n",
       "   extravasation_injury  kidney_healthy    kidney_low   kidney_high  \\\n",
       "0                   1.0             1.0  1.126873e-10  2.776140e-10   \n",
       "1                   1.0             1.0  1.812447e-36  3.602374e-23   \n",
       "2                   1.0             1.0  2.101137e-20  1.820112e-19   \n",
       "\n",
       "   liver_healthy     liver_low  liver_high  spleen_healthy    spleen_low  \\\n",
       "0   2.015356e-06  8.999719e-04    0.999994             1.0  2.039231e-18   \n",
       "1   4.157389e-18  6.336459e-17    1.000000             1.0  0.000000e+00   \n",
       "2   2.463542e-11  2.284361e-06    1.000000             1.0  1.401150e-34   \n",
       "\n",
       "    spleen_high  \n",
       "0  1.431278e-08  \n",
       "1  1.178109e-28  \n",
       "2  3.863721e-16  "
      ]
     },
     "execution_count": 34,
     "metadata": {},
     "output_type": "execute_result"
    }
   ],
   "source": [
    "\n",
    "df_col = df_sub.columns.drop(\"patient_id\")\n",
    "for patient in range(df_sub[\"patient_id\"].size):\n",
    "    for value in range(df_col.size):\n",
    "        df_sub.loc[patient,df_col[value]] = output[patient][0][value]\n",
    "df_sub.to_csv(\"submission.csv\",index=False)\n",
    "df_sub"
   ]
  }
 ],
 "kernelspec": {
  "display_name": "Python 3",
  "language": "python",
  "name": "python3"
 },
 "language_info": {
  "codemirror_mode": {
   "name": "ipython",
   "version": 3
  },
  "file_extension": ".py",
  "mimetype": "text/x-python",
  "name": "python",
  "nbconvert_exporter": "python",
  "pygments_lexer": "ipython3",
  "version": "3.6.4"
 },
 "metadata": {
  "kernelspec": {
   "display_name": "Python 3",
   "language": "python",
   "name": "python3"
  },
  "language_info": {
   "codemirror_mode": {
    "name": "ipython",
    "version": 3
   },
   "file_extension": ".py",
   "mimetype": "text/x-python",
   "name": "python",
   "nbconvert_exporter": "python",
   "pygments_lexer": "ipython3",
   "version": "3.10.12"
  },
  "papermill": {
   "default_parameters": {},
   "duration": 150.865611,
   "end_time": "2023-09-03T15:26:44.384166",
   "environment_variables": {},
   "exception": null,
   "input_path": "__notebook__.ipynb",
   "output_path": "__notebook__.ipynb",
   "parameters": {},
   "start_time": "2023-09-03T15:24:13.518555",
   "version": "2.4.0"
  }
 },
 "nbformat": 4,
 "nbformat_minor": 5
}
